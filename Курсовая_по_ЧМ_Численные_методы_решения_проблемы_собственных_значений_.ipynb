{
  "nbformat": 4,
  "nbformat_minor": 0,
  "metadata": {
    "colab": {
      "provenance": [],
      "collapsed_sections": [
        "CWyMFrx5kSGi",
        "5Y26Hm8DRnu3",
        "YB2BFQoW-34f",
        "XvUG7xRhaM3S"
      ],
      "authorship_tag": "ABX9TyM/kvI663oBlwcYBmZHFNGm",
      "include_colab_link": true
    },
    "kernelspec": {
      "name": "python3",
      "display_name": "Python 3"
    },
    "language_info": {
      "name": "python"
    }
  },
  "cells": [
    {
      "cell_type": "markdown",
      "metadata": {
        "id": "view-in-github",
        "colab_type": "text"
      },
      "source": [
        "<a href=\"https://colab.research.google.com/github/vvoroby/semestr_4_numerical_methods/blob/main/%D0%9A%D1%83%D1%80%D1%81%D0%BE%D0%B2%D0%B0%D1%8F_%D0%BF%D0%BE_%D0%A7%D0%9C_%D0%A7%D0%B8%D1%81%D0%BB%D0%B5%D0%BD%D0%BD%D1%8B%D0%B5_%D0%BC%D0%B5%D1%82%D0%BE%D0%B4%D1%8B_%D1%80%D0%B5%D1%88%D0%B5%D0%BD%D0%B8%D1%8F_%D0%BF%D1%80%D0%BE%D0%B1%D0%BB%D0%B5%D0%BC%D1%8B_%D1%81%D0%BE%D0%B1%D1%81%D1%82%D0%B2%D0%B5%D0%BD%D0%BD%D1%8B%D1%85_%D0%B7%D0%BD%D0%B0%D1%87%D0%B5%D0%BD%D0%B8%D0%B9_.ipynb\" target=\"_parent\"><img src=\"https://colab.research.google.com/assets/colab-badge.svg\" alt=\"Open In Colab\"/></a>"
      ]
    },
    {
      "cell_type": "markdown",
      "source": [
        "# **Численные методы решения проблемы собственных значений.**"
      ],
      "metadata": {
        "id": "RzZGxV8ajzwz"
      }
    },
    {
      "cell_type": "code",
      "source": [
        "import math\n",
        "import cmath\n",
        "import numpy as np"
      ],
      "metadata": {
        "id": "4vj6sf50VIEF"
      },
      "execution_count": 1,
      "outputs": []
    },
    {
      "cell_type": "markdown",
      "source": [
        "## **1. Степенной метод (степенные итерации).**\n",
        "Степенной метод предназначен для решения частичной проблемы собственных значений — нахождения доминирующих собственного значения и собственного вектора матрицы."
      ],
      "metadata": {
        "id": "CWyMFrx5kSGi"
      }
    },
    {
      "cell_type": "code",
      "execution_count": 2,
      "metadata": {
        "id": "Al5BDba9ow9P"
      },
      "outputs": [],
      "source": [
        "def power_method(B, tol, x): #принимает на вход матрицу и доп.приближение и нач. вектор\n",
        "  A = B.copy()\n",
        "  iter = 0\n",
        "  x = x.dot(1/np.linalg.norm(x, ord = 2)) # текущее приближение к нормированному доминирующему собственному вектору\n",
        "  lamda = 0\n",
        "  lamda_next = 1\n",
        "  while abs(lamda_next - lamda) > tol :\n",
        "    y = A.dot(x) # направление вектора преобладания\n",
        "    lamda = lamda_next \n",
        "    lamda_next = (y.dot(x))/np.linalg.norm(x, ord = 2) # текущее приближение к доминирующему собственному значению\n",
        "    x = y.dot(1/np.linalg.norm(y, ord = 2))\n",
        "    iter = iter + 1\n",
        "  print ('Кол-во итераций в степенном методе: ', iter)\n",
        "  return round(lamda_next, 7), x #возвращает собственное значение и вектор\n"
      ]
    },
    {
      "cell_type": "code",
      "source": [
        "# функция этого же метода для отслеживания приближения к собственному значению на некоторых итерациях\n",
        "\n",
        "def power_method_iter(B, tol, x): #принимает на вход матрицу и доп.приближение и нач. вектор\n",
        "  A = B.copy()\n",
        "  iter = 0\n",
        "  x = x.dot(1/np.linalg.norm(x, ord = 2)) # текущее приближение к нормированному доминирующему собственному вектору\n",
        "  lamda = 0\n",
        "  lamda_next = 1\n",
        "  while abs(lamda_next - lamda) > tol :\n",
        "    if iter == 1:\n",
        "      print ('1 - ', round(lamda_next, 7))\n",
        "    if iter == 3:\n",
        "      print ('3 - ', round(lamda_next, 7))\n",
        "    if iter == 5:\n",
        "      print ('5 - ', round(lamda_next, 7))\n",
        "    if iter%10 == 0:\n",
        "      print (iter,' - ', round(lamda_next, 7))\n",
        "\n",
        "    y = A.dot(x) # направление вектора преобладания\n",
        "    lamda = lamda_next \n",
        "    lamda_next = (y.dot(x))/np.linalg.norm(x, ord = 2) # текущее приближение к доминирующему собственному значению\n",
        "    x = y.dot(1/np.linalg.norm(y, ord = 2))\n",
        "    iter = iter + 1\n",
        "  print ('Кол-во итераций в степенном методе: ', iter)\n",
        "  return round(lamda_next, 7), x #возвращает собственное значение и вектор"
      ],
      "metadata": {
        "id": "gIHa6xp3VmLV"
      },
      "execution_count": 3,
      "outputs": []
    },
    {
      "cell_type": "markdown",
      "source": [
        "## **2. Обратные степенные итерации.**"
      ],
      "metadata": {
        "id": "500BWm6lRTyw"
      }
    },
    {
      "cell_type": "code",
      "source": [
        "def inverse_power_iterations(B, tol, x):  #принимает на вход матрицу и доп.приближение и нач. вектор\n",
        "  A = B.copy()\n",
        "  iter = 0\n",
        "  x = x.dot(1/np.linalg.norm(x, ord = 2)) # текущее приближение к нормированному доминирующему собственному вектору\n",
        "  lamda = 0\n",
        "  lamda_next = 1\n",
        "  while abs(lamda_next - lamda) > tol :\n",
        "    y = np.linalg.solve(np.array(A), np.array(x))\n",
        "    lamda = lamda_next \n",
        "    lamda_next = ((x.dot(y))/np.linalg.norm(y, ord = 2))/((y.dot(y))/np.linalg.norm(y, ord = 2)) # текущее приближение к доминирующему собственному значению\n",
        "    x = y.dot(1/np.linalg.norm(y, ord = 2))\n",
        "    iter = iter + 1\n",
        "  print ('Кол-во итераций в обратном степенном методе: ', iter)\n",
        "  return round(lamda_next, 7), x #возвращает собственное значение и вектор "
      ],
      "metadata": {
        "id": "rfGYzoqpRZs4"
      },
      "execution_count": 4,
      "outputs": []
    },
    {
      "cell_type": "markdown",
      "source": [
        "## **3. Базовый QR - алгоритм.**"
      ],
      "metadata": {
        "id": "dAmPHRDyRZ_A"
      }
    },
    {
      "cell_type": "code",
      "source": [
        "def convergence(A):\n",
        "    sum = 0\n",
        "    el = np.diag(A, k=-1) \n",
        "    for i in range(0, len(el)-1):\n",
        "      sum += abs(el[i]*el[i+1])\n",
        "    return(sum)\n",
        "\n",
        "def QR_algorithm(B, tol):   \n",
        "  A = B.copy()\n",
        "  iter = 0\n",
        "  while convergence(A) > tol:  \n",
        "    Q, R = np.linalg.qr(A)\n",
        "    A = np.round(R.dot(Q),5)\n",
        "    iter += 1\n",
        "  print ('Кол-во итераций в базовом QR алгоритме: ', iter)\n",
        "  return A "
      ],
      "metadata": {
        "id": "l_8_I2ayRg2e"
      },
      "execution_count": 177,
      "outputs": []
    },
    {
      "cell_type": "markdown",
      "source": [
        "## **3.1. Модифицированный QR-алгоритм со сдвигами**"
      ],
      "metadata": {
        "id": "Mi58XTDpVHlG"
      }
    },
    {
      "cell_type": "code",
      "source": [
        "# Модифицированный QR-алгоритм со сдвигами\n",
        "def convergence(A):\n",
        "    sum = 0\n",
        "    el = np.diag(A, k=-1) #список наддиагональных векторов\n",
        "    for i in range(0, len(el)-1):\n",
        "      sum += abs(el[i]*el[i+1])\n",
        "    return(sum)\n",
        "    \n",
        "def modified_QR_algorithm(B, tol):\n",
        "  A = B.copy()\n",
        "  iter = 0\n",
        "  shift = 0 # сдвиг, далее равен приближенному собственному значению значению A \n",
        "  I = np.eye(len(A)) # единичная матрица размера A\n",
        "  while convergence(A) > tol:  #условие сходимости  \n",
        "    vI = I.dot(shift)\n",
        "    Q, R = np.linalg.qr(A - vI)\n",
        "    A = np.round((R.dot(Q) + vI),5)\n",
        "    shift = A[0][0]\n",
        "    iter += 1\n",
        "  print ('Кол-во итераций в QR алгоритме со сдвигом: ', iter)\n",
        "  return A"
      ],
      "metadata": {
        "id": "qRkbgXH5bK06"
      },
      "execution_count": 178,
      "outputs": []
    },
    {
      "cell_type": "markdown",
      "source": [
        "### *Примеры*"
      ],
      "metadata": {
        "id": "lc7V1IdqdHKu"
      }
    },
    {
      "cell_type": "code",
      "source": [
        "A = np.array([[1,-2,3],[4,5,-6],[-7,8,9]])\n",
        "tol = 0.001 \n",
        "\n",
        "print('QR-алгоритм: ')\n",
        "print(QR_algorithm(A, tol))\n",
        "print('QR-алгоритм со сдвигами: ') \n",
        "print(modified_QR_algorithm(A, tol))"
      ],
      "metadata": {
        "colab": {
          "base_uri": "https://localhost:8080/"
        },
        "id": "9pDKwHcAdJGw",
        "outputId": "af66b4fd-781d-48f5-c156-50b0203facd6"
      },
      "execution_count": 179,
      "outputs": [
        {
          "output_type": "stream",
          "name": "stdout",
          "text": [
            "QR-алгоритм: \n",
            "Кол-во итераций в базовом QR алгоритме:  9\n",
            "[[ 2.76049e+00 -9.64246e+00 -4.95429e+00]\n",
            " [ 7.88805e+00  9.48116e+00 -3.68680e-01]\n",
            " [ 1.00000e-04 -0.00000e+00  2.75836e+00]]\n",
            "QR-алгоритм со сдвигами: \n",
            "Кол-во итераций в QR алгоритме со сдвигом:  10\n",
            "[[ 4.685320e+00 -5.602900e+00  4.026510e+00]\n",
            " [ 1.192791e+01  7.556190e+00 -2.908960e+00]\n",
            " [ 4.600000e-04 -8.000000e-05  2.758480e+00]]\n"
          ]
        }
      ]
    },
    {
      "cell_type": "markdown",
      "source": [
        "## **4. Метод Якоби поиска собственных чисел.**\n",
        "\n",
        "Идея метода Якоби состоит в том, чтобы подходящими преобразованиями подобия от шага к шагу уменьшать норму внедиагональной части матрицы. "
      ],
      "metadata": {
        "id": "wVwlPgbqRhUA"
      }
    },
    {
      "cell_type": "code",
      "source": [
        "def frobenius_norm(A): # считает норму Фробениуса из внедиагональных элемнтов, используется для условия сходимости\n",
        "  sum = 0\n",
        "  for i in range(len(A)):\n",
        "    for j in range(len(A)):\n",
        "      if i!=j:\n",
        "        sum += A[i][j]*A[i][j]\n",
        "  return math.sqrt(sum)\n",
        "\n",
        "def Elem(a): # поиск внедиагонального элемента (неравного нулю) максимального по модулю, т.к. так эффективнее \n",
        "  n = len(a)\n",
        "  Max = 0.0\n",
        "  for i in range(n-1):\n",
        "    for j in range(i+1,n):\n",
        "      if abs(a[i][j]) >= Max:\n",
        "        Max = abs(a[i][j])\n",
        "        k = i; l = j\n",
        "  return Max,k,l\n",
        "    \n",
        "def jacobi_method(B, tol):\n",
        "  A = B.copy()\n",
        "  iter = 0\n",
        "  n = len(A)\n",
        "  vec = np.eye(n)\n",
        "    \n",
        "  while frobenius_norm(A) >= tol: # условие сходимости\n",
        "    elem, i, j = Elem(A) \n",
        "    q = A[i][i] - A[j][j]\n",
        "    if q == 0:\n",
        "      c = (math.sqrt(2))/2\n",
        "      s = (math.sqrt(2))/2\n",
        "      print (c, s)\n",
        "    else:\n",
        "      p = 2*A[i][j]\n",
        "      d = math.sqrt(p*p + q*q)\n",
        "      r = abs(q)/(2*d)\n",
        "      c = math.sqrt(0.5 + r)\n",
        "      s = (math.sqrt(0.5 - r))*(np.sign(p*q))\n",
        "\n",
        "    I = np.eye(n) # матрица поворота\n",
        "    I[i][j] = -s\n",
        "    I[j][i] = s\n",
        "    I[i][i] = c\n",
        "    I[j][j] = c\n",
        "    #print ('I', I)\n",
        "\n",
        "    A = np.round(np.transpose(I).dot(A).dot(I),2) \n",
        "    vec = vec.dot(I)\n",
        "    iter += 1\n",
        "\n",
        "  #print(A)\n",
        "  print ('Кол-во итераций в методе Якоби для поиска собственных чисел c обнулением максимального: ', iter)\n",
        "  return np.diag(A), vec #возвращает собственные значения и вектора"
      ],
      "metadata": {
        "id": "69rsspyIxsh2"
      },
      "execution_count": 84,
      "outputs": []
    },
    {
      "cell_type": "code",
      "source": [
        "def frobenius_norm(A): # считает норму Фробениуса из внедиагональных элемнтов, используется для условия сходимости\n",
        "  sum = 0\n",
        "  for i in range(len(A)):\n",
        "    for j in range(len(A)):\n",
        "      if i!=j:\n",
        "        sum += A[i][j]*A[i][j]\n",
        "  return math.sqrt(sum)\n",
        "\n",
        "def Elem(a): # поиск внедиагонального элемента неравного нулю\n",
        "  n = len(a)\n",
        "  Max = 0.0\n",
        "  for i in range(n-1):\n",
        "    for j in range(i+1,n):\n",
        "      if abs(a[i][j]) > 0.00001:\n",
        "        Max = abs(a[i][j])\n",
        "        k = i; l = j\n",
        "  return Max,k,l\n",
        "  \n",
        "def jacobi_method_zero(B, tol):\n",
        "  A = B.copy()\n",
        "  iter = 0\n",
        "  n = len(A)\n",
        "  vec = np.eye(n)\n",
        "    \n",
        "  while frobenius_norm(A) >= tol: # условие сходимости\n",
        "    elem, i, j = Elem(A) \n",
        "    q = A[i][i] - A[j][j]\n",
        "    if q == 0:\n",
        "      c = (math.sqrt(2))/2\n",
        "      s = (math.sqrt(2))/2\n",
        "      print (c, s)\n",
        "    else:\n",
        "      p = 2*A[i][j]\n",
        "      d = math.sqrt(p*p + q*q)\n",
        "      r = abs(q)/(2*d)\n",
        "      c = math.sqrt(0.5 + r)\n",
        "      s = (math.sqrt(0.5 - r))*(np.sign(p*q))\n",
        "\n",
        "    I = np.eye(n) # матрица поворота\n",
        "    I[i][j] = -s\n",
        "    I[j][i] = s\n",
        "    I[i][i] = c\n",
        "    I[j][j] = c\n",
        "\n",
        "    A = np.round(np.transpose(I).dot(A).dot(I),2) \n",
        "    vec = vec.dot(I)\n",
        "    iter += 1\n",
        "\n",
        "  #print(A)\n",
        "  print ('Кол-во итераций в методе Якоби для поиска собственных чисел c обнулением не нуля: ', iter)\n",
        "  return np.diag(A), vec #возвращает собственные значения и вектора"
      ],
      "metadata": {
        "id": "zrTMoodzJxMn"
      },
      "execution_count": 109,
      "outputs": []
    },
    {
      "cell_type": "markdown",
      "source": [
        "### *Примеры*"
      ],
      "metadata": {
        "id": "8E8D7VjPlqD2"
      }
    },
    {
      "cell_type": "code",
      "source": [
        "A = np.array([[1,2,5,4], [2,3,6,2],[5,6,4,1],[4,2,1,6]])# в функции пока нет проверки на симметричность\n",
        "#A = np.array([[45, 27],[27, 45]])\n",
        "tol = 0.001\n",
        "B, v = jacobi_method(A, tol)\n",
        "B_2, v_2 = jacobi_method_zero(A, tol)"
      ],
      "metadata": {
        "id": "_9H9owZ3lpXE"
      },
      "execution_count": null,
      "outputs": []
    },
    {
      "cell_type": "markdown",
      "source": [
        "Предварительно, матрицу A можно привести к трехдиагональному\n",
        "виду с помощью метода Гивенса"
      ],
      "metadata": {
        "id": "mek4juPuCLIS"
      }
    },
    {
      "cell_type": "code",
      "source": [],
      "metadata": {
        "id": "HyzWJZMdFYD8"
      },
      "execution_count": null,
      "outputs": []
    },
    {
      "cell_type": "markdown",
      "source": [
        "## **5. Метод Якоби поиска сингулярных чисел.**"
      ],
      "metadata": {
        "id": "5Y26Hm8DRnu3"
      }
    },
    {
      "cell_type": "code",
      "source": [
        "def search_singular_values(B, tol):\n",
        "  def frobenius_norm(A): # считает норму Фробениуса из внедиагональных элемнтов, используется для условия сходимости\n",
        "    sum = 0\n",
        "    for i in range(len(A)):\n",
        "      for j in range(len(A)):\n",
        "        if i!=j:\n",
        "          sum += A[i][j]*A[i][j]\n",
        "    return math.sqrt(sum)\n",
        "\n",
        "  def Elem(a): # поиск внедиагонального элемента (неравного нулю) максимального по модулю, т.к. так эффективнее \n",
        "    n = len(a)\n",
        "    Max = 0.0\n",
        "    for i in range(n-1):\n",
        "      for j in range(i+1,n):\n",
        "        if abs(a[i][j]) >= Max:\n",
        "          Max = abs(a[i][j])\n",
        "          k = i; l = j\n",
        "    return Max,k,l\n",
        "\n",
        "  G = B.copy()\n",
        "  A = np.transpose(G).dot(G)\n",
        "  iter = 0\n",
        "  n = len(A)\n",
        "  vec = np.eye(n)\n",
        "    \n",
        "  while frobenius_norm(A) >= tol: # условие сходимости\n",
        "    elem, i, j = Elem(A) \n",
        "    q = A[i][i] - A[j][j]\n",
        "    if q == 0:\n",
        "      c = (math.sqrt(2))/2\n",
        "      s = (math.sqrt(2))/2\n",
        "      print (c, s)\n",
        "    else:\n",
        "      p = 2*A[i][j]\n",
        "      d = math.sqrt(p*p + q*q)\n",
        "      r = abs(q)/(2*d)\n",
        "      c = math.sqrt(0.5 + r)\n",
        "      s = (math.sqrt(0.5 - r))*(np.sign(p*q))\n",
        "\n",
        "    I = np.eye(n) # матрица поворота\n",
        "    I[i][j] = -s\n",
        "    I[j][i] = s\n",
        "    I[i][i] = c\n",
        "    I[j][j] = c\n",
        "\n",
        "    A = np.round(np.transpose(I).dot(A).dot(I),3)\n",
        "    iter += 1\n",
        "    vec = vec.dot(I)\n",
        "\n",
        "  #print(A)\n",
        "  print ('Кол-во итераций в методе Якоби для поиска сингулярных чисел: ', iter)\n",
        "  singular = []\n",
        "  for i in range(len(A)):\n",
        "    for j in range(len(A)):\n",
        "      if i == j:\n",
        "        singular.append(cmath.sqrt(A[i][j]))\n",
        "\n",
        "  return singular, vec"
      ],
      "metadata": {
        "id": "mh435bwiECu7"
      },
      "execution_count": 85,
      "outputs": []
    },
    {
      "cell_type": "markdown",
      "source": [
        "### *Примеры*"
      ],
      "metadata": {
        "id": "7_1qageHls2u"
      }
    },
    {
      "cell_type": "code",
      "source": [
        "# встроенный метод\n",
        "u, s, vh = np.linalg.svd(A, full_matrices=False)"
      ],
      "metadata": {
        "id": "0cTCzmAYm59h"
      },
      "execution_count": null,
      "outputs": []
    },
    {
      "cell_type": "code",
      "source": [
        "m = np.array([[1,2],[-3,4]])"
      ],
      "metadata": {
        "id": "uZ7nL0fKP7LU"
      },
      "execution_count": null,
      "outputs": []
    },
    {
      "cell_type": "code",
      "source": [
        "QR_algorithm(m, 0.0001)"
      ],
      "metadata": {
        "id": "ei8x-phkPylO"
      },
      "execution_count": null,
      "outputs": []
    },
    {
      "cell_type": "markdown",
      "source": [
        "# **ПРИМЕРЫ**"
      ],
      "metadata": {
        "id": "mkv_3riAA0Rv"
      }
    },
    {
      "cell_type": "markdown",
      "source": [
        "### Пример 1\n",
        "Готов."
      ],
      "metadata": {
        "id": "YB2BFQoW-34f"
      }
    },
    {
      "cell_type": "code",
      "source": [
        "def generate_wilkinson_matrix(n):\n",
        "  m = np.zeros((n,n))\n",
        "  el = n\n",
        "  for i in range(n):\n",
        "    for j in range(n):\n",
        "      if i == j:\n",
        "        m[i][j] = el\n",
        "        el -= 1\n",
        "      if i == j-1:\n",
        "        m[i][j]= 20\n",
        "  return m"
      ],
      "metadata": {
        "id": "4GHDX8hI8wjN"
      },
      "execution_count": 87,
      "outputs": []
    },
    {
      "cell_type": "code",
      "source": [
        "wilkinson_matrix = generate_wilkinson_matrix(20)"
      ],
      "metadata": {
        "id": "6Nw7JMxG_OMY"
      },
      "execution_count": 88,
      "outputs": []
    },
    {
      "cell_type": "code",
      "source": [
        "lamda_1, v_1 = power_method(wilkinson_matrix, 0.0001, np.array([1]*len(wilkinson_matrix)))\n",
        "lamda_2, v_2 = inverse_power_iterations(wilkinson_matrix, 0.0001, np.array([1]*len(wilkinson_matrix)))"
      ],
      "metadata": {
        "colab": {
          "base_uri": "https://localhost:8080/"
        },
        "id": "nHiN2aZs-3kH",
        "outputId": "b6413c3c-12e7-4817-85fc-65aed7458635"
      },
      "execution_count": 89,
      "outputs": [
        {
          "output_type": "stream",
          "name": "stdout",
          "text": [
            "Кол-во итераций в степенном методе:  178\n",
            "Кол-во итераций в обратном степенном методе:  18\n"
          ]
        }
      ]
    },
    {
      "cell_type": "code",
      "source": [
        "lamda_3 = QR_algorithm(wilkinson_matrix, 0.0001)\n",
        "lamda_4 = modified_QR_algorithm(wilkinson_matrix, 0.0001)"
      ],
      "metadata": {
        "colab": {
          "base_uri": "https://localhost:8080/"
        },
        "id": "qDkjiUBx-2TD",
        "outputId": "79f1af3a-bc0c-4a67-9da0-88c4f446498a"
      },
      "execution_count": 90,
      "outputs": [
        {
          "output_type": "stream",
          "name": "stdout",
          "text": [
            "Кол-во итераций в базовом QR алгоритме:  0\n",
            "Кол-во итераций в QR алгоритме со сдвигом:  0\n"
          ]
        }
      ]
    },
    {
      "cell_type": "markdown",
      "source": [
        "### Пример 2\n",
        "Не работает метод Якоби."
      ],
      "metadata": {
        "id": "jbIrInfvBIjq"
      }
    },
    {
      "cell_type": "code",
      "source": [
        "def generate_hilbert_matrix(n):\n",
        "  m = np.zeros((n,n))\n",
        "  for i in range(n):\n",
        "    for j in range(n):\n",
        "      m[i][j] = 1/(i+j+1)\n",
        "  return m"
      ],
      "metadata": {
        "id": "y5G7EqS68z7J"
      },
      "execution_count": 91,
      "outputs": []
    },
    {
      "cell_type": "code",
      "source": [
        "hilbert_matrix = generate_hilbert_matrix(20)"
      ],
      "metadata": {
        "id": "Z8ZL80ntEfDy"
      },
      "execution_count": 92,
      "outputs": []
    },
    {
      "cell_type": "code",
      "source": [
        "lamda_1, v_1 = power_method(hilbert_matrix, 0.0001, np.array([1]*len(hilbert_matrix)))\n",
        "lamda_2, v_2 = inverse_power_iterations(hilbert_matrix, 0.0001, np.array([1]*len(hilbert_matrix)))"
      ],
      "metadata": {
        "colab": {
          "base_uri": "https://localhost:8080/"
        },
        "id": "5C9Xm-r_DwOs",
        "outputId": "fbf970d8-a795-4d71-fed3-4246b17cabf5"
      },
      "execution_count": 93,
      "outputs": [
        {
          "output_type": "stream",
          "name": "stdout",
          "text": [
            "Кол-во итераций в степенном методе:  6\n",
            "Кол-во итераций в обратном степенном методе:  2\n"
          ]
        }
      ]
    },
    {
      "cell_type": "code",
      "source": [
        "lamda_3 = QR_algorithm(hilbert_matrix, 0.00001)\n",
        "#lamda_4 = modified_QR_algorithm(hilbert_matrix, 0.01) очень долгие вычисления"
      ],
      "metadata": {
        "colab": {
          "base_uri": "https://localhost:8080/"
        },
        "id": "F7ciPllqD8tn",
        "outputId": "751cd707-57af-4e78-a422-54629d47fa6b"
      },
      "execution_count": 94,
      "outputs": [
        {
          "output_type": "stream",
          "name": "stdout",
          "text": [
            "Кол-во итераций в базовом QR алгоритме:  3\n"
          ]
        }
      ]
    },
    {
      "cell_type": "code",
      "source": [
        "#lamda_5, v_5 = jacobi_method(hilbert_matrix, 0.01)"
      ],
      "metadata": {
        "id": "c0dkDucMP7IC"
      },
      "execution_count": 95,
      "outputs": []
    },
    {
      "cell_type": "code",
      "source": [
        "#lamda_6, v_6 = jacobi_method_zero(hilbert_matrix, 0.0001)"
      ],
      "metadata": {
        "id": "7kqPkYcAQCUZ"
      },
      "execution_count": 96,
      "outputs": []
    },
    {
      "cell_type": "markdown",
      "source": [
        "### Пример 3"
      ],
      "metadata": {
        "id": "r97ySBuXN1P-"
      }
    },
    {
      "cell_type": "code",
      "source": [
        "m_3 = np.array([[-2,3,4],[5,7,2],[60,3,5]])\n",
        "lamda, vec = power_method_iter(m_3, 0.0001, np.array([1]*len(m_3)))\n",
        "print('Доминирующее собственное значение: ', lamda, '\\nСоответсьвующий собственный вектор: ', vec)"
      ],
      "metadata": {
        "colab": {
          "base_uri": "https://localhost:8080/"
        },
        "id": "YmohgfgjUgPP",
        "outputId": "19b88780-ff57-49ac-f0ea-9c28a26d5d43"
      },
      "execution_count": 97,
      "outputs": [
        {
          "output_type": "stream",
          "name": "stdout",
          "text": [
            "0  -  1\n",
            "1 -  29.0\n",
            "3 -  27.8447651\n",
            "5 -  23.8872789\n",
            "10  -  18.2558089\n",
            "20  -  19.1815624\n",
            "30  -  19.230119\n",
            "40  -  19.2326253\n",
            "Кол-во итераций в степенном методе:  44\n",
            "Доминирующее собственное значение:  19.23272 \n",
            "Соответсьвующий собственный вектор:  [0.2125117  0.24165996 0.94680475]\n"
          ]
        }
      ]
    },
    {
      "cell_type": "code",
      "source": [
        "m_3 = m_3 + 5*np.eye(len(m_3)) #делаем сдвиг\n",
        "lamda, vec = power_method_iter(m_3, 0.0001, np.array([1]*len(m_3)))\n",
        "print('Доминирующее собственное значение: ', lamda - 5, '\\nСоответсьвующий собственный вектор: ', vec)"
      ],
      "metadata": {
        "colab": {
          "base_uri": "https://localhost:8080/"
        },
        "id": "S3qvkvJCZOwJ",
        "outputId": "863fb9e0-696f-4668-f890-6cd41870f015"
      },
      "execution_count": 98,
      "outputs": [
        {
          "output_type": "stream",
          "name": "stdout",
          "text": [
            "0  -  1\n",
            "1 -  34.0\n",
            "3 -  26.5643365\n",
            "5 -  24.5717084\n",
            "10  -  24.230511\n",
            "Кол-во итераций в степенном методе:  15\n",
            "Доминирующее собственное значение:  19.2327872 \n",
            "Соответсьвующий собственный вектор:  [0.21251104 0.24165989 0.94680492]\n"
          ]
        }
      ]
    },
    {
      "cell_type": "markdown",
      "source": [
        "### Пример 4\n",
        "готово."
      ],
      "metadata": {
        "id": "R117cE3dN4sB"
      }
    },
    {
      "cell_type": "code",
      "source": [
        "m_4 = np.array([[1,1,0],[0,1,0],[0,0,1/2]])\n",
        "x = np.array([1,1,1]) # начальный вектор\n",
        "m_4"
      ],
      "metadata": {
        "id": "tm8H6dGzJy6x",
        "colab": {
          "base_uri": "https://localhost:8080/"
        },
        "outputId": "59b18942-c621-4a12-c74b-92dd33be6509"
      },
      "execution_count": 99,
      "outputs": [
        {
          "output_type": "execute_result",
          "data": {
            "text/plain": [
              "array([[1. , 1. , 0. ],\n",
              "       [0. , 1. , 0. ],\n",
              "       [0. , 0. , 0.5]])"
            ]
          },
          "metadata": {},
          "execution_count": 99
        }
      ]
    },
    {
      "cell_type": "code",
      "source": [
        "lamda_1, v_1 = power_method(m_4, 0.0001, x)\n",
        "lamda_2, v_2 = inverse_power_iterations(m_4, 0.0001, x)"
      ],
      "metadata": {
        "colab": {
          "base_uri": "https://localhost:8080/"
        },
        "id": "A0Rf5y9-N3sV",
        "outputId": "0fa0ae3b-095e-4c76-e06f-1d75d3f0efa2"
      },
      "execution_count": 100,
      "outputs": [
        {
          "output_type": "stream",
          "name": "stdout",
          "text": [
            "Кол-во итераций в степенном методе:  101\n",
            "Кол-во итераций в обратном степенном методе:  10\n"
          ]
        }
      ]
    },
    {
      "cell_type": "code",
      "source": [
        "lamda_3 = QR_algorithm(m_4, 0.0001)\n",
        "lamda_4 = modified_QR_algorithm(m_4, 0.0001)"
      ],
      "metadata": {
        "colab": {
          "base_uri": "https://localhost:8080/"
        },
        "id": "1nRqRuEjOlrO",
        "outputId": "24736eac-fb31-4246-b5c3-18f539ff59fd"
      },
      "execution_count": 101,
      "outputs": [
        {
          "output_type": "stream",
          "name": "stdout",
          "text": [
            "Кол-во итераций в базовом QR алгоритме:  0\n",
            "Кол-во итераций в QR алгоритме со сдвигом:  0\n"
          ]
        }
      ]
    },
    {
      "cell_type": "markdown",
      "source": [
        "### Пример 5\n",
        "готово."
      ],
      "metadata": {
        "id": "4zWcQCibO4zb"
      }
    },
    {
      "cell_type": "code",
      "source": [
        "m_5 = np.array([[1,-2,3],[4,5,-6],[-7,8,9]])"
      ],
      "metadata": {
        "id": "6GsMTb3IHHTJ"
      },
      "execution_count": 102,
      "outputs": []
    },
    {
      "cell_type": "code",
      "source": [
        "lamda_2, v_2 = inverse_power_iterations(m_5, 0.0001, x)\n",
        "lamda_1, v_1 = power_method(m_5, 0.0001, x)"
      ],
      "metadata": {
        "colab": {
          "base_uri": "https://localhost:8080/"
        },
        "id": "FtbCbZY-O-DX",
        "outputId": "de3b5b03-9c75-4411-9bc7-9aa4ec114edf"
      },
      "execution_count": 103,
      "outputs": [
        {
          "output_type": "stream",
          "name": "stdout",
          "text": [
            "Кол-во итераций в обратном степенном методе:  9\n",
            "Кол-во итераций в степенном методе:  115365\n"
          ]
        }
      ]
    },
    {
      "cell_type": "code",
      "source": [
        "lamda_3 = QR_algorithm(m_5, 0.0001)\n",
        "lamda_4 = modified_QR_algorithm(m_5, 0.0001)"
      ],
      "metadata": {
        "colab": {
          "base_uri": "https://localhost:8080/"
        },
        "id": "H-9P1p-tPOmu",
        "outputId": "72d60937-c8cd-453f-c5ec-b159a6ce9de4"
      },
      "execution_count": 104,
      "outputs": [
        {
          "output_type": "stream",
          "name": "stdout",
          "text": [
            "Кол-во итераций в базовом QR алгоритме:  6\n",
            "Кол-во итераций в QR алгоритме со сдвигом:  8\n"
          ]
        }
      ]
    },
    {
      "cell_type": "markdown",
      "source": [
        "### Пример 6\n",
        "готово."
      ],
      "metadata": {
        "id": "sV4tVfIpO66t"
      }
    },
    {
      "cell_type": "code",
      "source": [
        "m_6 = np.array([[0,1],[1,0]])\n",
        "x = np.array([1,1])"
      ],
      "metadata": {
        "id": "ZHNEUKxoJAyL"
      },
      "execution_count": 105,
      "outputs": []
    },
    {
      "cell_type": "code",
      "source": [
        "lamda_1, v_1 = power_method(m_6, 0.0001, x)\n",
        "lamda_2, v_2 = inverse_power_iterations(m_6, 0.0001, x)"
      ],
      "metadata": {
        "colab": {
          "base_uri": "https://localhost:8080/"
        },
        "id": "VqziV6VMPAQF",
        "outputId": "a0e08ea8-3a19-4f5a-dd47-3e23a350df00"
      },
      "execution_count": 106,
      "outputs": [
        {
          "output_type": "stream",
          "name": "stdout",
          "text": [
            "Кол-во итераций в степенном методе:  1\n",
            "Кол-во итераций в обратном степенном методе:  1\n"
          ]
        }
      ]
    },
    {
      "cell_type": "code",
      "source": [
        "lamda_3 = QR_algorithm(m_6, 0.0001)\n",
        "lamda_4 = modified_QR_algorithm(m_6, 0.0001)"
      ],
      "metadata": {
        "id": "0LhqDbLoJqcI",
        "colab": {
          "base_uri": "https://localhost:8080/"
        },
        "outputId": "83a80040-aec9-4aab-8cb2-aa8067a844ba"
      },
      "execution_count": 107,
      "outputs": [
        {
          "output_type": "stream",
          "name": "stdout",
          "text": [
            "Кол-во итераций в базовом QR алгоритме:  0\n",
            "Кол-во итераций в QR алгоритме со сдвигом:  0\n"
          ]
        }
      ]
    },
    {
      "cell_type": "code",
      "source": [
        "lamda_5, v_5 = jacobi_method(m_6, 0.0001)\n",
        "lamda_6, v_6 = jacobi_method_zero(m_6, 0.0001)"
      ],
      "metadata": {
        "colab": {
          "base_uri": "https://localhost:8080/"
        },
        "id": "F_UYyDyPQiUp",
        "outputId": "7b55ffb8-70cd-45cf-d987-0a1ea1cc3340"
      },
      "execution_count": 110,
      "outputs": [
        {
          "output_type": "stream",
          "name": "stdout",
          "text": [
            "0.7071067811865476 0.7071067811865476\n",
            "Кол-во итераций в методе Якоби для поиска собственных чисел c обнулением максимального:  1\n",
            "0.7071067811865476 0.7071067811865476\n",
            "Кол-во итераций в методе Якоби для поиска собственных чисел c обнулением не нуля:  1\n"
          ]
        }
      ]
    },
    {
      "cell_type": "markdown",
      "source": [
        "### Пример 7"
      ],
      "metadata": {
        "id": "XvUG7xRhaM3S"
      }
    },
    {
      "cell_type": "code",
      "source": [
        "m_001 = np.array([[6.66683, 3.33317, -1.66633],[3.33317, 6.66683, 1.66633], [-1.66633, 1.66633, 1.66733]]) #собственные числа 0.001, 5, 10\n",
        "m_1 = np.array([[6.83333, 3.16667, -1.33333],[3.16667, 6.83333, 1.33333],[-1.33333, 1.33333, 2.33333]]) #собственные числа 1, 5, 10\n",
        "x = np.array([1,1,1])"
      ],
      "metadata": {
        "id": "onFF1dhqaT43"
      },
      "execution_count": 111,
      "outputs": []
    },
    {
      "cell_type": "code",
      "source": [
        "print(power_method(m_001, 0.0001, x))\n",
        "print(power_method(m_1, 0.0001, x))"
      ],
      "metadata": {
        "colab": {
          "base_uri": "https://localhost:8080/"
        },
        "id": "3cmW25AOXSs8",
        "outputId": "d967766c-9262-4cc0-c319-938a72534653"
      },
      "execution_count": 112,
      "outputs": [
        {
          "output_type": "stream",
          "name": "stdout",
          "text": [
            "Кол-во итераций в степенном методе:  9\n",
            "(9.9999873, array([7.06646209e-01, 7.07566904e-01, 4.60347545e-04]))\n",
            "Кол-во итераций в степенном методе:  9\n",
            "(9.9999873, array([7.06646209e-01, 7.07566904e-01, 4.60348016e-04]))\n"
          ]
        }
      ]
    },
    {
      "cell_type": "code",
      "source": [
        "print(inverse_power_iterations(m_001, 0.0001, x))\n",
        "print(inverse_power_iterations(m_1, 0.0001, x))"
      ],
      "metadata": {
        "colab": {
          "base_uri": "https://localhost:8080/"
        },
        "id": "Ys5JVWcGZgIS",
        "outputId": "d28a3c5f-b950-4f70-965c-e3e8117865f5"
      },
      "execution_count": 113,
      "outputs": [
        {
          "output_type": "stream",
          "name": "stdout",
          "text": [
            "Кол-во итераций в обратном степенном методе:  2\n",
            "(0.001, array([ 0.40824829, -0.40824826,  0.8164966 ]))\n",
            "Кол-во итераций в обратном степенном методе:  5\n",
            "(1.0000002, array([ 0.40812989, -0.40810539,  0.8166272 ]))\n"
          ]
        }
      ]
    },
    {
      "cell_type": "code",
      "source": [
        "print(QR_algorithm(m_001, 0.0001))\n",
        "print(QR_algorithm(m_1, 0.0001))"
      ],
      "metadata": {
        "colab": {
          "base_uri": "https://localhost:8080/"
        },
        "id": "oe5vDUvhXgYM",
        "outputId": "b4266a56-8608-41ac-cb94-9ec535aa28f6"
      },
      "execution_count": 114,
      "outputs": [
        {
          "output_type": "stream",
          "name": "stdout",
          "text": [
            "Кол-во итераций в базовом QR алгоритме:  1\n",
            "[[ 9.29  1.75  0.  ]\n",
            " [ 1.75  5.71 -0.  ]\n",
            " [ 0.   -0.    0.  ]]\n",
            "Кол-во итераций в базовом QR алгоритме:  4\n",
            "[[9.99 0.26 0.  ]\n",
            " [0.26 5.01 0.  ]\n",
            " [0.   0.   1.01]]\n"
          ]
        }
      ]
    },
    {
      "cell_type": "markdown",
      "source": [
        "### Метод Гивенса\n",
        "Метод Гивенса приводит любую симметричную (несимметричную) матрицу к подобной ей трехдиагональной (почти треугольной) матрице и основан на подобных преобразованиях исходной матрицы с помощью матриц вращения."
      ],
      "metadata": {
        "id": "rlGHkesRd4PH"
      }
    },
    {
      "cell_type": "code",
      "source": [
        "def givens_method(m):\n",
        "  A = m.copy()\n",
        "  n = len(A)\n",
        "  for i in range(n-1):\n",
        "    for j in range(i, n):\n",
        "      t = np.eye(n)\n",
        "      c = (A[i-1][i])/(math.sqrt((A[i-1][i])**2+(A[i-1][j])**2))\n",
        "      s = -(A[i-1][j])/(math.sqrt((A[i-1][i])**2+(A[i-1][j])**2))\n",
        "      t[i][i] = c\n",
        "      t[j][j] = c\n",
        "      t[i][j] = s\n",
        "      t[j][i] = -s\n",
        "      A = np.round((np.transpose(t).dot(A)).dot(t),3)\n",
        "  return A\n"
      ],
      "metadata": {
        "id": "DhTuWI-7fyUA"
      },
      "execution_count": 221,
      "outputs": []
    },
    {
      "cell_type": "code",
      "source": [
        "m_1 = np.array([[1,-2,3],[4,5,-6],[-7,8,9]])\n",
        "m_2 = givens_method(m_1)"
      ],
      "metadata": {
        "id": "QUIg4jCOD3Ic"
      },
      "execution_count": 205,
      "outputs": []
    },
    {
      "cell_type": "code",
      "source": [
        "QR_algorithm(m_1, 0.001)\n",
        "QR_algorithm(m_2, 0.001)"
      ],
      "metadata": {
        "colab": {
          "base_uri": "https://localhost:8080/"
        },
        "id": "Go3oaDyCUe32",
        "outputId": "b3e3749e-553c-4383-c309-4c9b5fab8d68"
      },
      "execution_count": 206,
      "outputs": [
        {
          "output_type": "stream",
          "name": "stdout",
          "text": [
            "Кол-во итераций в базовом QR алгоритме:  9\n",
            "Кол-во итераций в базовом QR алгоритме:  4\n"
          ]
        },
        {
          "output_type": "execute_result",
          "data": {
            "text/plain": [
              "array([[ 9.25174e+00,  6.87838e+00, -7.62000e-02],\n",
              "       [-8.78808e+00,  3.28209e+00, -2.94151e+00],\n",
              "       [ 1.50000e-04, -1.00000e-05,  7.76190e-01]])"
            ]
          },
          "metadata": {},
          "execution_count": 206
        }
      ]
    },
    {
      "cell_type": "code",
      "source": [
        "modified_QR_algorithm(m_1, 0.001)\n",
        "modified_QR_algorithm(m_2, 0.001)"
      ],
      "metadata": {
        "colab": {
          "base_uri": "https://localhost:8080/"
        },
        "id": "XyjAzghtcBxn",
        "outputId": "a7eb3fac-60c1-432b-d020-5a4a8cd69e94"
      },
      "execution_count": 207,
      "outputs": [
        {
          "output_type": "stream",
          "name": "stdout",
          "text": [
            "Кол-во итераций в QR алгоритме со сдвигом:  10\n",
            "Кол-во итераций в QR алгоритме со сдвигом:  17\n"
          ]
        },
        {
          "output_type": "execute_result",
          "data": {
            "text/plain": [
              "array([[ 8.411330e+00,  1.011842e+01,  1.507130e+00],\n",
              "       [-5.547980e+00,  4.122700e+00, -2.527220e+00],\n",
              "       [-4.100000e-04,  1.200000e-04,  7.759700e-01]])"
            ]
          },
          "metadata": {},
          "execution_count": 207
        }
      ]
    },
    {
      "cell_type": "code",
      "source": [
        "m_1 = np.array([[1,4,5,6,43,45,3],\n",
        "              [-12,45,6,7,8,-90,6],\n",
        "              [5,6,78,9,5,3,-2],\n",
        "              [4,6,-78,9,0,3,52],\n",
        "              [1,3,-43,1,1,0,0],\n",
        "              [0,0,-4,34,-21,0,1],\n",
        "              [0,6,7,9,0,1,2]])\n",
        "m_2 = givens_method(m_1)"
      ],
      "metadata": {
        "colab": {
          "base_uri": "https://localhost:8080/"
        },
        "id": "OB_aSstpfMqT",
        "outputId": "6a9d59b1-aae7-483f-913b-ea4524384a4f"
      },
      "execution_count": 217,
      "outputs": [
        {
          "output_type": "stream",
          "name": "stderr",
          "text": [
            "<ipython-input-216-1bfd2b765817>:7: RuntimeWarning: invalid value encountered in true_divide\n",
            "  c = (A[i-1][i])/(math.sqrt((A[i-1][i])**2+(A[i-1][j])**2))\n",
            "<ipython-input-216-1bfd2b765817>:8: RuntimeWarning: invalid value encountered in true_divide\n",
            "  s = -(A[i-1][j])/(math.sqrt((A[i-1][i])**2+(A[i-1][j])**2))\n"
          ]
        }
      ]
    },
    {
      "cell_type": "code",
      "source": [
        "m_2"
      ],
      "metadata": {
        "colab": {
          "base_uri": "https://localhost:8080/"
        },
        "id": "h7xWpS1Bgovk",
        "outputId": "a2ed101b-7194-4945-fc02-ec87f2ffba3a"
      },
      "execution_count": 215,
      "outputs": [
        {
          "output_type": "execute_result",
          "data": {
            "text/plain": [
              "array([[-25.47,  -9.26,  28.24, -21.69,   5.24,  -1.46,   6.41],\n",
              "       [ 31.42,  44.95, -18.47, -11.22,   1.51, -20.54,   7.43],\n",
              "       [ -7.25,   5.1 ,  28.21,   5.65,  -0.61,   1.57,  -3.36],\n",
              "       [ 17.55,  10.73, -12.75,  29.56,   3.39,  -5.22,   5.52],\n",
              "       [-12.09,   5.12, -12.63,   5.7 ,  10.21,   0.55,   1.5 ],\n",
              "       [  7.21,  20.12,   7.78,   2.18,  -4.04,  -5.89,  -4.76],\n",
              "       [  1.38,   6.5 ,   7.19, -13.67, -15.81,   8.43, -19.21]])"
            ]
          },
          "metadata": {},
          "execution_count": 215
        }
      ]
    },
    {
      "cell_type": "code",
      "source": [
        "QR_algorithm(m_1,0.001)\n",
        "QR_algorithm(m_2,0.001)"
      ],
      "metadata": {
        "colab": {
          "base_uri": "https://localhost:8080/"
        },
        "id": "PzZ4zp-tXBOO",
        "outputId": "b8ef7db7-0992-4c1c-c5b2-0d6fc161e4cb"
      },
      "execution_count": 209,
      "outputs": [
        {
          "output_type": "stream",
          "name": "stdout",
          "text": [
            "Кол-во итераций в базовом QR алгоритме:  68\n",
            "Кол-во итераций в базовом QR алгоритме:  0\n"
          ]
        },
        {
          "output_type": "execute_result",
          "data": {
            "text/plain": [
              "array([[nan, nan, nan, nan, nan, nan, nan],\n",
              "       [nan, nan, nan, nan, nan, nan, nan],\n",
              "       [nan, nan, nan, nan, nan, nan, nan],\n",
              "       [nan, nan, nan, nan, nan, nan, nan],\n",
              "       [nan, nan, nan, nan, nan, nan, nan],\n",
              "       [nan, nan, nan, nan, nan, nan, nan],\n",
              "       [nan, nan, nan, nan, nan, nan, nan]])"
            ]
          },
          "metadata": {},
          "execution_count": 209
        }
      ]
    },
    {
      "cell_type": "markdown",
      "source": [
        "### Анализ продуктивности Леонтьева"
      ],
      "metadata": {
        "id": "7uVNGyWfQsnk"
      }
    },
    {
      "cell_type": "code",
      "source": [],
      "metadata": {
        "id": "GVQfKC1jQvF7"
      },
      "execution_count": null,
      "outputs": []
    },
    {
      "cell_type": "code",
      "source": [
        "m_3 = np.array([[1,2,3,4],\n",
        "                [2,4,5,6],\n",
        "                [3,5,0,1],\n",
        "                [4,6,1,-13]])"
      ],
      "metadata": {
        "id": "4NVhhYiQmyD0"
      },
      "execution_count": 228,
      "outputs": []
    },
    {
      "cell_type": "code",
      "source": [
        "QR_algorithm(m_3,0.001)"
      ],
      "metadata": {
        "colab": {
          "base_uri": "https://localhost:8080/"
        },
        "id": "2gNFs6Lmo1Tg",
        "outputId": "c8369c26-566e-4b91-f122-0c4173aae6ad"
      },
      "execution_count": 232,
      "outputs": [
        {
          "output_type": "stream",
          "name": "stdout",
          "text": [
            "Кол-во итераций в базовом QR алгоритме:  7\n"
          ]
        },
        {
          "output_type": "execute_result",
          "data": {
            "text/plain": [
              "array([[-1.508512e+01,  3.689700e+00,  1.300000e-04,  0.000000e+00],\n",
              "       [ 3.689700e+00,  1.017054e+01, -2.500000e-04,  0.000000e+00],\n",
              "       [ 1.300000e-04, -2.500000e-04, -3.125640e+00,  0.000000e+00],\n",
              "       [ 0.000000e+00,  0.000000e+00,  0.000000e+00,  4.023000e-02]])"
            ]
          },
          "metadata": {},
          "execution_count": 232
        }
      ]
    },
    {
      "cell_type": "code",
      "source": [
        "m_4 = givens_method(m_3)\n",
        "np.round(m_4,1)"
      ],
      "metadata": {
        "colab": {
          "base_uri": "https://localhost:8080/"
        },
        "id": "U8YQ-2YRnK4h",
        "outputId": "f5733b9f-c4fe-4a71-8b24-1a8b62c9f6e0"
      },
      "execution_count": 229,
      "outputs": [
        {
          "output_type": "execute_result",
          "data": {
            "text/plain": [
              "array([[-14.5,   4.4,   0. ,   0. ],\n",
              "       [  4.4,   8.8,   1.5,   0. ],\n",
              "       [  0. ,   1.5,  -2.8,   0. ],\n",
              "       [  0. ,   0. ,   0. ,   0. ]])"
            ]
          },
          "metadata": {},
          "execution_count": 229
        }
      ]
    },
    {
      "cell_type": "code",
      "source": [
        "np.round(QR_algorithm(m_4,0.001),1)"
      ],
      "metadata": {
        "colab": {
          "base_uri": "https://localhost:8080/"
        },
        "id": "KpsUa0rznfUE",
        "outputId": "d4ad427a-15cc-4b00-cc93-56568cdf01bc"
      },
      "execution_count": 230,
      "outputs": [
        {
          "output_type": "stream",
          "name": "stdout",
          "text": [
            "Кол-во итераций в базовом QR алгоритме:  6\n"
          ]
        },
        {
          "output_type": "execute_result",
          "data": {
            "text/plain": [
              "array([[-15.3,   0.3,   0. ,   0. ],\n",
              "       [  0.3,   9.8,   0. ,   0. ],\n",
              "       [  0. ,   0. ,  -3. ,   0. ],\n",
              "       [  0. ,   0. ,   0. ,   0. ]])"
            ]
          },
          "metadata": {},
          "execution_count": 230
        }
      ]
    },
    {
      "cell_type": "code",
      "source": [],
      "metadata": {
        "id": "spxsvDkznPHV"
      },
      "execution_count": null,
      "outputs": []
    }
  ]
}