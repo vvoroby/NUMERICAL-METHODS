{
  "nbformat": 4,
  "nbformat_minor": 0,
  "metadata": {
    "colab": {
      "provenance": [],
      "collapsed_sections": [
        "RzZGxV8ajzwz",
        "5Y26Hm8DRnu3",
        "rlGHkesRd4PH",
        "mkv_3riAA0Rv",
        "g1rTpxsvwaG9",
        "ti8eYLvuxfcL",
        "SS3R3VkU81DN",
        "r97ySBuXN1P-",
        "Yf3UPFqlsT91",
        "pvDHjXSbvrKJ",
        "vjx0pBcEBQAm",
        "qDv9kihB2Wc4",
        "mNZcngMHFI4R",
        "zpgw-e2LEG-j",
        "xRjUKzD1DsBa"
      ],
      "authorship_tag": "ABX9TyNz2KrUtgWjMfEtsIXs0Pwf",
      "include_colab_link": true
    },
    "kernelspec": {
      "name": "python3",
      "display_name": "Python 3"
    },
    "language_info": {
      "name": "python"
    }
  },
  "cells": [
    {
      "cell_type": "markdown",
      "metadata": {
        "id": "view-in-github",
        "colab_type": "text"
      },
      "source": [
        "<a href=\"https://colab.research.google.com/github/vvoroby/semestr_4_numerical_methods/blob/main/%D0%9A%D1%83%D1%80%D1%81%D0%BE%D0%B2%D0%B0%D1%8F_%22%D0%A7%D0%B8%D1%81%D0%BB%D0%B5%D0%BD%D0%BD%D1%8B%D0%B5_%D0%BC%D0%B5%D1%82%D0%BE%D0%B4%D1%8B_%D1%80%D0%B5%D1%88%D0%B5%D0%BD%D0%B8%D1%8F_%D0%BF%D1%80%D0%BE%D0%B1%D0%BB%D0%B5%D0%BC%D1%8B_%D1%81%D0%BE%D0%B1%D1%81%D1%82%D0%B2%D0%B5%D0%BD%D0%BD%D1%8B%D1%85_%D0%B7%D0%BD%D0%B0%D1%87%D0%B5%D0%BD%D0%B8%D0%B9%22.ipynb\" target=\"_parent\"><img src=\"https://colab.research.google.com/assets/colab-badge.svg\" alt=\"Open In Colab\"/></a>"
      ]
    },
    {
      "cell_type": "markdown",
      "source": [
        "# **Численные методы решения проблемы собственных значений.**"
      ],
      "metadata": {
        "id": "RzZGxV8ajzwz"
      }
    },
    {
      "cell_type": "code",
      "source": [
        "import math\n",
        "import cmath\n",
        "import numpy as np"
      ],
      "metadata": {
        "id": "4vj6sf50VIEF"
      },
      "execution_count": null,
      "outputs": []
    },
    {
      "cell_type": "markdown",
      "source": [
        "## **1. Степенной метод (степенные итерации).**\n",
        "Степенной метод предназначен для решения частичной проблемы собственных значений — нахождения доминирующих собственного значения и собственного вектора матрицы."
      ],
      "metadata": {
        "id": "CWyMFrx5kSGi"
      }
    },
    {
      "cell_type": "code",
      "execution_count": null,
      "metadata": {
        "id": "Al5BDba9ow9P"
      },
      "outputs": [],
      "source": [
        "def power_method(B, tol, x): \n",
        "  A = B.copy()\n",
        "  iter = 0\n",
        "  x = x.dot(1/np.linalg.norm(x, ord = 2)) \n",
        "  lamda = 0\n",
        "  lamda_next = 1\n",
        "  while abs(lamda_next - lamda) > tol :\n",
        "    y = A.dot(x) \n",
        "    lamda = lamda_next \n",
        "    lamda_next = (y.dot(x))/np.linalg.norm(x, ord = 2)\n",
        "    x = y.dot(1/np.linalg.norm(y, ord = 2))\n",
        "    iter = iter + 1\n",
        "  print ('Кол-во итераций в степенном методе: ', iter)\n",
        "  return round(lamda_next, 7), x \n"
      ]
    },
    {
      "cell_type": "code",
      "source": [
        "def power_method_iter(B, tol, x): \n",
        "  A = B.copy()\n",
        "  iter = 0\n",
        "  x = x.dot(1/np.linalg.norm(x, ord = 2)) \n",
        "  lamda = 0\n",
        "  lamda_next = 1\n",
        "  while abs(lamda_next - lamda) > tol :\n",
        "    if iter == 1:\n",
        "      print ('1 - ', round(lamda_next, 7))\n",
        "    if iter == 3:\n",
        "      print ('3 - ', round(lamda_next, 7))\n",
        "    if iter == 5:\n",
        "      print ('5 - ', round(lamda_next, 7))\n",
        "    if iter%10 == 0:\n",
        "      print (iter,' - ', round(lamda_next, 7))\n",
        "\n",
        "    y = A.dot(x) \n",
        "    lamda = lamda_next \n",
        "    lamda_next = (y.dot(x))/np.linalg.norm(x, ord = 2) \n",
        "    x = y.dot(1/np.linalg.norm(y, ord = 2))\n",
        "    iter = iter + 1\n",
        "  print ('Кол-во итераций в степенном методе: ', iter)\n",
        "  return round(lamda_next, 7), x "
      ],
      "metadata": {
        "id": "gIHa6xp3VmLV"
      },
      "execution_count": null,
      "outputs": []
    },
    {
      "cell_type": "markdown",
      "source": [
        "## **2. Обратные степенные итерации.**"
      ],
      "metadata": {
        "id": "500BWm6lRTyw"
      }
    },
    {
      "cell_type": "code",
      "source": [
        "def inverse_power_iterations(B, tol, x):  \n",
        "  A = B.copy()\n",
        "  iter = 0\n",
        "  x = x.dot(1/np.linalg.norm(x, ord = 2)) \n",
        "  lamda = 0\n",
        "  lamda_next = 1\n",
        "  while abs(lamda_next - lamda) > tol :\n",
        "    y = np.linalg.solve(np.array(A), np.array(x))\n",
        "    lamda = lamda_next \n",
        "    lamda_next = ((x.dot(y))/np.linalg.norm(y, ord = 2))/((y.dot(y))/np.linalg.norm(y, ord = 2)) \n",
        "    x = y.dot(1/np.linalg.norm(y, ord = 2))\n",
        "    iter = iter + 1\n",
        "  print ('Кол-во итераций в обратном степенном методе: ', iter)\n",
        "  return round(lamda_next, 7), x "
      ],
      "metadata": {
        "id": "rfGYzoqpRZs4"
      },
      "execution_count": null,
      "outputs": []
    },
    {
      "cell_type": "markdown",
      "source": [
        "## **3. Базовый QR - алгоритм.**"
      ],
      "metadata": {
        "id": "dAmPHRDyRZ_A"
      }
    },
    {
      "cell_type": "code",
      "source": [
        "def convergence(A):\n",
        "    sum = 0\n",
        "    el = np.diag(A, k=-1) \n",
        "    for i in range(0, len(el)-1):\n",
        "      sum += abs(el[i]*el[i+1])\n",
        "    return(sum)\n",
        "\n",
        "def QR_algorithm(B, tol):   \n",
        "  A = B.copy()\n",
        "  iter = 0\n",
        "  while convergence(A) > tol:  \n",
        "    Q, R = np.linalg.qr(A)\n",
        "    A = np.round(R.dot(Q),5)\n",
        "    iter += 1\n",
        "  print ('Кол-во итераций в базовом QR алгоритме: ', iter)\n",
        "  return A "
      ],
      "metadata": {
        "id": "l_8_I2ayRg2e"
      },
      "execution_count": null,
      "outputs": []
    },
    {
      "cell_type": "markdown",
      "source": [
        "## **3.1. Модифицированный QR-алгоритм со сдвигами**"
      ],
      "metadata": {
        "id": "Mi58XTDpVHlG"
      }
    },
    {
      "cell_type": "code",
      "source": [
        "def convergence(A):\n",
        "    sum = 0\n",
        "    el = np.diag(A, k=-1) \n",
        "    for i in range(0, len(el)-1):\n",
        "      sum += abs(el[i]*el[i+1])\n",
        "    return(sum)\n",
        "    \n",
        "def modified_QR_algorithm(B, tol):\n",
        "  A = B.copy()\n",
        "  iter = 0\n",
        "  shift = 0 \n",
        "  I = np.eye(len(A)) \n",
        "  while convergence(A) > tol:   \n",
        "    vI = I.dot(shift)\n",
        "    Q, R = np.linalg.qr(A - vI)\n",
        "    A = np.round((R.dot(Q) + vI),5)\n",
        "    shift = A[0][0]\n",
        "    iter += 1\n",
        "  print ('Кол-во итераций в QR алгоритме со сдвигом: ', iter)\n",
        "  return A"
      ],
      "metadata": {
        "id": "qRkbgXH5bK06"
      },
      "execution_count": null,
      "outputs": []
    },
    {
      "cell_type": "markdown",
      "source": [
        "## **4. Метод Якоби поиска собственных чисел.**\n",
        "\n",
        "Идея метода Якоби состоит в том, чтобы подходящими преобразованиями подобия от шага к шагу уменьшать норму внедиагональной части матрицы. "
      ],
      "metadata": {
        "id": "wVwlPgbqRhUA"
      }
    },
    {
      "cell_type": "code",
      "source": [
        "def frobenius_norm(A): \n",
        "  sum = 0\n",
        "  for i in range(len(A)):\n",
        "    for j in range(len(A)):\n",
        "      if i!=j:\n",
        "        sum += A[i][j]*A[i][j]\n",
        "  return math.sqrt(sum)\n",
        " \n",
        "def Elem_max(a): \n",
        "  n = len(a)\n",
        "  Max = 0.0\n",
        "  for i in range(n-1):\n",
        "    for j in range(i+1,n):\n",
        "      if abs(a[i][j]) >= Max:\n",
        "        Max = abs(a[i][j])\n",
        "        k = i\n",
        "        l = j\n",
        "  return k, l\n",
        "\n",
        "def rotation_matrix(A, i, j):\n",
        "  n = len(A)\n",
        "  q = A[i][i] - A[j][j]\n",
        "  if q == 0:\n",
        "    c = (math.sqrt(2))/2\n",
        "    s = (math.sqrt(2))/2\n",
        "  else:\n",
        "    p = 2*A[i][j]\n",
        "    d = math.sqrt(p*p + q*q)\n",
        "    r = abs(q)/(2*d)\n",
        "    c = math.sqrt(0.5 + r)\n",
        "    s = (math.sqrt(0.5 - r))*(np.sign(p*q))\n",
        "\n",
        "  I = np.eye(n) \n",
        "  I[i][j] = -s\n",
        "  I[j][i] = s\n",
        "  I[i][i] = c\n",
        "  I[j][j] = c\n",
        "  return(I)\n",
        "    \n",
        "def jacobi_method_max(B, tol):\n",
        "  A = B.copy()\n",
        "  iter = 0\n",
        "  n = len(A)\n",
        "  vec = np.eye(n)\n",
        "  while frobenius_norm(A) >= tol: \n",
        "    i, j = Elem_max(A) \n",
        "    Q = rotation_matrix(A, i, j)\n",
        "    A = np.round(np.transpose(Q).dot(A).dot(Q),2) \n",
        "    vec = vec.dot(Q)\n",
        "    iter += 1\n",
        "\n",
        "  print ('Кол-во итераций в методе Якоби для поиска собственных чисел c обнулением максимального: ', iter)\n",
        "  return np.diag(A), vec "
      ],
      "metadata": {
        "id": "69rsspyIxsh2"
      },
      "execution_count": null,
      "outputs": []
    },
    {
      "cell_type": "code",
      "source": [
        "def frobenius_norm(A): \n",
        "  sum = 0\n",
        "  for i in range(len(A)):\n",
        "    for j in range(len(A)):\n",
        "      if i!=j:\n",
        "        sum += A[i][j]*A[i][j]\n",
        "  return math.sqrt(sum)\n",
        "\n",
        "def Elem_not_zero(a): \n",
        "  n = len(a)\n",
        "  for i in range(n-1):\n",
        "    for j in range(i+1,n):\n",
        "      if abs(a[i][j]) > 0.000001:\n",
        "        Max = abs(a[i][j])\n",
        "        k = i \n",
        "        l = j\n",
        "  return k, l\n",
        "\n",
        "def rotation_matrix(A, i, j):\n",
        "  n = len(A)\n",
        "  q = A[i][i] - A[j][j]\n",
        "  if q == 0:\n",
        "    c = (math.sqrt(2))/2\n",
        "    s = (math.sqrt(2))/2\n",
        "  else:\n",
        "    p = 2*A[i][j]\n",
        "    d = math.sqrt(p*p + q*q)\n",
        "    r = abs(q)/(2*d)\n",
        "    c = math.sqrt(0.5 + r)\n",
        "    s = (math.sqrt(0.5 - r))*(np.sign(p*q))\n",
        "\n",
        "  I = np.eye(n) \n",
        "  I[i][j] = -s\n",
        "  I[j][i] = s\n",
        "  I[i][i] = c\n",
        "  I[j][j] = c\n",
        "  return(I)\n",
        "    \n",
        "def jacobi_method_zero(B, tol):\n",
        "  A = B.copy()\n",
        "  iter = 0\n",
        "  n = len(A)\n",
        "  vec = np.eye(n)\n",
        "  while frobenius_norm(A) >= tol: \n",
        "    i, j = Elem_max(A) \n",
        "    Q = rotation_matrix(A, i, j)\n",
        "    A = np.round(np.transpose(Q).dot(A).dot(Q),2) \n",
        "    vec = vec.dot(Q)\n",
        "    iter += 1\n",
        "\n",
        "  print ('Кол-во итераций в методе Якоби для поиска собственных чисел c обнулением не нуля: ', iter)\n",
        "  return np.diag(A), vec "
      ],
      "metadata": {
        "id": "zrTMoodzJxMn"
      },
      "execution_count": null,
      "outputs": []
    },
    {
      "cell_type": "markdown",
      "source": [
        "## **5. Метод Якоби поиска сингулярных чисел.**"
      ],
      "metadata": {
        "id": "5Y26Hm8DRnu3"
      }
    },
    {
      "cell_type": "code",
      "source": [
        "def frobenius_norm(A): \n",
        "    sum = 0\n",
        "    for i in range(len(A)):\n",
        "      for j in range(len(A)):\n",
        "        if i!=j:\n",
        "          sum += A[i][j]*A[i][j]\n",
        "    return math.sqrt(sum)\n",
        "    \n",
        "def Elem_not_zero(a): \n",
        "  n = len(a)\n",
        "  for i in range(n-1):\n",
        "    for j in range(i+1,n):\n",
        "      if abs(a[i][j]) > 0.000001:\n",
        "        Max = abs(a[i][j])\n",
        "        k = i \n",
        "        l = j\n",
        "  return k, l\n",
        "    \n",
        "def rotation_matrix(A, i, j):\n",
        "  n = len(A)\n",
        "  q = A[i][i] - A[j][j]\n",
        "  if q == 0:\n",
        "    c = (math.sqrt(2))/2\n",
        "    s = (math.sqrt(2))/2\n",
        "  else:\n",
        "    p = 2*A[i][j]\n",
        "    d = math.sqrt(p*p + q*q)\n",
        "    r = abs(q)/(2*d)\n",
        "    c = math.sqrt(0.5 + r)\n",
        "    s = (math.sqrt(0.5 - r))*(np.sign(p*q))\n",
        "\n",
        "  I = np.eye(n) \n",
        "  I[i][j] = -s\n",
        "  I[j][i] = s\n",
        "  I[i][i] = c\n",
        "  I[j][j] = c\n",
        "  return(I)\n",
        "\n",
        "def search_singular_values(B, tol):\n",
        "  G = B.copy()\n",
        "  A = givens_method(np.transpose(G).dot(G))\n",
        "  iter = 0\n",
        "  n = len(A)\n",
        "  vec = np.eye(n)\n",
        "    \n",
        "  while frobenius_norm(A) >= tol: \n",
        "    i, j = Elem_not_zero(A) \n",
        "    Q = rotation_matrix(A, i, j)\n",
        "\n",
        "    A = np.round(np.transpose(Q).dot(A).dot(Q),5)\n",
        "    iter += 1\n",
        "    vec = vec.dot(Q)\n",
        "\n",
        "  print ('Кол-во итераций в методе Якоби для поиска сингулярных чисел: ', iter)\n",
        "  singular = np.array([[0]*n]*n)\n",
        "  for i in range(len(A)):\n",
        "    for j in range(len(A)):\n",
        "      if i == j:\n",
        "        singular[i][j] = math.sqrt(A[i][j])\n",
        "      \n",
        "  return singular, vec"
      ],
      "metadata": {
        "id": "mh435bwiECu7"
      },
      "execution_count": null,
      "outputs": []
    },
    {
      "cell_type": "markdown",
      "source": [
        "### Метод Гивенса\n",
        "Метод Гивенса приводит любую симметричную (несимметричную) матрицу к подобной ей трехдиагональной (почти треугольной) матрице и основан на подобных преобразованиях исходной матрицы с помощью матриц вращения."
      ],
      "metadata": {
        "id": "rlGHkesRd4PH"
      }
    },
    {
      "cell_type": "code",
      "source": [
        "def givens_method(m):\n",
        "  A = m.copy()\n",
        "  n = len(A)\n",
        "  for i in range(n-1):\n",
        "    for j in range(i, n):\n",
        "      t = np.eye(n)\n",
        "      c = (A[i-1][i])/(math.sqrt((A[i-1][i])**2+(A[i-1][j])**2))\n",
        "      s = -(A[i-1][j])/(math.sqrt((A[i-1][i])**2+(A[i-1][j])**2))\n",
        "      t[i][i] = c\n",
        "      t[j][j] = c\n",
        "      t[i][j] = s\n",
        "      t[j][i] = -s\n",
        "      A = np.round((np.transpose(t).dot(A)).dot(t),3)\n",
        "  return A\n"
      ],
      "metadata": {
        "id": "DhTuWI-7fyUA"
      },
      "execution_count": null,
      "outputs": []
    },
    {
      "cell_type": "markdown",
      "source": [
        "# **ПРИМЕРЫ**"
      ],
      "metadata": {
        "id": "mkv_3riAA0Rv"
      }
    },
    {
      "cell_type": "markdown",
      "source": [
        "### Пример 1\n",
        "Применение степенного метода и метода обратных итераций."
      ],
      "metadata": {
        "id": "g1rTpxsvwaG9"
      }
    },
    {
      "cell_type": "code",
      "source": [
        "m = np.array([[1, 2, 0, 0], [4, -6 , 280, 8], [-14, 2 , -76 , 10], [5,  9 , -9, -12]])\n",
        "x = np.array([1,1,1,1])\n",
        "tol=0.00001\n",
        "print(m)\n",
        "power_method(m,tol,x)\n",
        "inverse_power_iterations(m,tol,x)"
      ],
      "metadata": {
        "colab": {
          "base_uri": "https://localhost:8080/"
        },
        "id": "mw8uFNGCwyfb",
        "outputId": "7afa6452-1e2e-4d62-cda0-eb1ecc09e324"
      },
      "execution_count": null,
      "outputs": [
        {
          "output_type": "stream",
          "name": "stdout",
          "text": [
            "[[  1   2   0   0]\n",
            " [  4  -6 280   8]\n",
            " [-14   2 -76  10]\n",
            " [  5   9  -9 -12]]\n",
            "Кол-во итераций в степенном методе:  16\n",
            "Кол-во итераций в обратном степенном методе:  17\n"
          ]
        },
        {
          "output_type": "execute_result",
          "data": {
            "text/plain": [
              "(3.9883022, array([0.46850826, 0.7000215 , 0.00288013, 0.53894491]))"
            ]
          },
          "metadata": {},
          "execution_count": 150
        }
      ]
    },
    {
      "cell_type": "markdown",
      "source": [
        "### Пример 2\n",
        "Применение степенного метода и метода обратных итераций к жордановой клетке."
      ],
      "metadata": {
        "id": "ti8eYLvuxfcL"
      }
    },
    {
      "cell_type": "code",
      "source": [
        "m = np.array([[1,1,0,0],[0,1,1,0],[0,0,1,1],[0,0,0,1]])\n",
        "tol=0.00001\n",
        "print(m)\n",
        "power_method(m,tol,x)\n",
        "inverse_power_iterations(m,tol,x)"
      ],
      "metadata": {
        "colab": {
          "base_uri": "https://localhost:8080/"
        },
        "id": "N65gbF4bxqoJ",
        "outputId": "08cccbb1-cf17-4124-f90c-6af68bda0d2a"
      },
      "execution_count": null,
      "outputs": [
        {
          "output_type": "stream",
          "name": "stdout",
          "text": [
            "[[1 1 0 0]\n",
            " [0 1 1 0]\n",
            " [0 0 1 1]\n",
            " [0 0 0 1]]\n",
            "Кол-во итераций в степенном методе:  551\n",
            "Кол-во итераций в обратном степенном методе:  1\n"
          ]
        },
        {
          "output_type": "execute_result",
          "data": {
            "text/plain": [
              "(1.0, array([0.        , 0.70710678, 0.        , 0.70710678]))"
            ]
          },
          "metadata": {},
          "execution_count": 149
        }
      ]
    },
    {
      "cell_type": "markdown",
      "source": [
        "### Пример 3\n",
        "Применение степенного метода и метода обратных итераций к матрице Уилкинсона."
      ],
      "metadata": {
        "id": "SS3R3VkU81DN"
      }
    },
    {
      "cell_type": "code",
      "source": [
        "def generate_wilkinson_matrix(n):\n",
        "  m = np.zeros((n,n))\n",
        "  el = n\n",
        "  for i in range(n):\n",
        "    for j in range(n):\n",
        "      if i == j:\n",
        "        m[i][j] = el\n",
        "        el -= 1\n",
        "      if i == j-1:\n",
        "        m[i][j]= n\n",
        "  return m\n",
        "\n",
        "tol=0.00001\n",
        "wilkinson_matrix = generate_wilkinson_matrix(20)\n",
        "power_method(wilkinson_matrix, tol, np.array([1]*len(wilkinson_matrix)))\n",
        "inverse_power_iterations(wilkinson_matrix, tol, np.array([1]*len(wilkinson_matrix)))"
      ],
      "metadata": {
        "colab": {
          "base_uri": "https://localhost:8080/"
        },
        "id": "H_9gfkYP9AGm",
        "outputId": "f9c96713-5971-4ec6-8d3c-c143ec826ce4"
      },
      "execution_count": null,
      "outputs": [
        {
          "output_type": "stream",
          "name": "stdout",
          "text": [
            "Кол-во итераций в степенном методе:  223\n",
            "Кол-во итераций в обратном степенном методе:  21\n"
          ]
        },
        {
          "output_type": "execute_result",
          "data": {
            "text/plain": [
              "(0.9999915,\n",
              " array([-5.10165497e-01,  4.84657464e-01, -4.36191936e-01,  3.70763330e-01,\n",
              "        -2.96610812e-01,  2.22458220e-01, -1.55720832e-01,  1.01218591e-01,\n",
              "        -6.07311851e-02,  3.34021685e-02, -1.67010926e-02,  7.51549543e-03,\n",
              "        -3.00619967e-03,  1.05217041e-03, -3.15651281e-04,  7.89128598e-05,\n",
              "        -1.57825799e-05,  2.36738816e-06, -2.36738935e-07,  1.18369527e-08]))"
            ]
          },
          "metadata": {},
          "execution_count": 50
        }
      ]
    },
    {
      "cell_type": "markdown",
      "source": [
        "### Пример 4 \n",
        "Сдвиг спектра для матрицы с близкими по значению собственными числами."
      ],
      "metadata": {
        "id": "r97ySBuXN1P-"
      }
    },
    {
      "cell_type": "code",
      "source": [
        "m_3 = np.array([[-2,3,4],[5,7,2],[60,3,5]])\n",
        "lamda, vec = power_method_iter(m_3, tol, np.array([1]*len(m_3)))\n",
        "print('Доминирующее собственное значение: ', lamda)"
      ],
      "metadata": {
        "colab": {
          "base_uri": "https://localhost:8080/"
        },
        "id": "YmohgfgjUgPP",
        "outputId": "b5f20d31-3cbe-4ff7-9add-a79cd944a709"
      },
      "execution_count": null,
      "outputs": [
        {
          "output_type": "stream",
          "name": "stdout",
          "text": [
            "0  -  1\n",
            "1 -  29.0\n",
            "3 -  27.8447651\n",
            "5 -  23.8872789\n",
            "10  -  18.2558089\n",
            "20  -  19.1815624\n",
            "30  -  19.230119\n",
            "40  -  19.2326253\n",
            "50  -  19.2327546\n",
            "Кол-во итераций в степенном методе:  52\n",
            "Доминирующее собственное значение:  19.2327578\n"
          ]
        }
      ]
    },
    {
      "cell_type": "code",
      "source": [
        "m_3 = m_3 + 5*np.eye(len(m_3)) #делаем сдвиг\n",
        "lamda, vec = power_method_iter(m_3, tol, np.array([1]*len(m_3)))\n",
        "print('Доминирующее собственное значение: ', lamda - 5)"
      ],
      "metadata": {
        "colab": {
          "base_uri": "https://localhost:8080/"
        },
        "id": "S3qvkvJCZOwJ",
        "outputId": "8f9f1bfc-ceb6-4c9a-a796-4422c4bd4040"
      },
      "execution_count": null,
      "outputs": [
        {
          "output_type": "stream",
          "name": "stdout",
          "text": [
            "0  -  1\n",
            "1 -  34.0\n",
            "3 -  26.5643365\n",
            "5 -  24.5717084\n",
            "10  -  24.230511\n",
            "Кол-во итераций в степенном методе:  18\n",
            "Доминирующее собственное значение:  19.2327607\n"
          ]
        }
      ]
    },
    {
      "cell_type": "markdown",
      "source": [
        "### Пример 5\n",
        "Сравнение работы QR-алгоритмов (таблица 1)."
      ],
      "metadata": {
        "id": "Yf3UPFqlsT91"
      }
    },
    {
      "cell_type": "code",
      "source": [
        "m = np.array([[1, 2, 0, 0], [4, -6 , 280, 8], [-14, 2 , -76 , 10], [5, \n",
        "  9 , -9, -12]])\n",
        "print(m)"
      ],
      "metadata": {
        "colab": {
          "base_uri": "https://localhost:8080/"
        },
        "id": "4DkAcI4ciwK3",
        "outputId": "a0039a3a-8e41-41f6-d96b-2768fe013cc2"
      },
      "execution_count": null,
      "outputs": [
        {
          "output_type": "stream",
          "name": "stdout",
          "text": [
            "[[  1   2   0   0]\n",
            " [  4  -6 280   8]\n",
            " [-14   2 -76  10]\n",
            " [  5   9  -9 -12]]\n"
          ]
        }
      ]
    },
    {
      "cell_type": "code",
      "source": [
        "m_1 = givens_method(m)\n",
        "print(m_1)"
      ],
      "metadata": {
        "colab": {
          "base_uri": "https://localhost:8080/"
        },
        "id": "Kh0yq3nUjt3v",
        "outputId": "ca3a35f8-b443-4096-83d4-b52cd62460b1"
      },
      "execution_count": null,
      "outputs": [
        {
          "output_type": "stream",
          "name": "stdout",
          "text": [
            "[[-102.46   155.173    0.       0.   ]\n",
            " [ -22.069    5.411    6.093    0.   ]\n",
            " [ -93.266  161.682    3.45    -0.235]\n",
            " [ -37.197   71.515    1.923    0.293]]\n"
          ]
        }
      ]
    },
    {
      "cell_type": "code",
      "source": [
        "QR_algorithm(m, 0.001)"
      ],
      "metadata": {
        "colab": {
          "base_uri": "https://localhost:8080/"
        },
        "id": "MDXcYTTGjwIa",
        "outputId": "aa542853-563a-4ba8-cd07-d350e543eecc"
      },
      "execution_count": null,
      "outputs": [
        {
          "output_type": "stream",
          "name": "stdout",
          "text": [
            "Кол-во итераций в базовом QR алгоритме:  8\n"
          ]
        },
        {
          "output_type": "execute_result",
          "data": {
            "text/plain": [
              "array([[-7.8681420e+01,  1.1741104e+02,  2.3646486e+02,  8.3893910e+01],\n",
              "       [-9.0100000e-03, -2.7668210e+01, -3.0963280e+01,  1.4307800e+00],\n",
              "       [ 1.0000000e-05,  1.1830000e-02,  9.3664300e+00,  1.2968000e+01],\n",
              "       [ 0.0000000e+00, -0.0000000e+00, -2.1100000e-03,  3.9832100e+00]])"
            ]
          },
          "metadata": {},
          "execution_count": 159
        }
      ]
    },
    {
      "cell_type": "code",
      "source": [
        "QR_algorithm(m_1, 0.001)"
      ],
      "metadata": {
        "colab": {
          "base_uri": "https://localhost:8080/"
        },
        "id": "1Tzp0NNPj0tl",
        "outputId": "369f4e18-b63f-4b17-e451-a7913b4ae046"
      },
      "execution_count": null,
      "outputs": [
        {
          "output_type": "stream",
          "name": "stdout",
          "text": [
            "Кол-во итераций в базовом QR алгоритме:  6\n"
          ]
        },
        {
          "output_type": "execute_result",
          "data": {
            "text/plain": [
              "array([[-6.4154270e+01,  1.3452788e+02, -2.2461321e+02, -2.7800460e+01],\n",
              "       [-8.6750000e-02, -3.8552190e+01,  3.8213830e+01, -1.2712000e-01],\n",
              "       [ 1.6000000e-04,  1.0750000e-02,  8.9437000e+00,  4.3875700e+00],\n",
              "       [ 0.0000000e+00,  0.0000000e+00,  0.0000000e+00,  4.5675000e-01]])"
            ]
          },
          "metadata": {},
          "execution_count": 56
        }
      ]
    },
    {
      "cell_type": "code",
      "source": [
        "modified_QR_algorithm(m, 0.001)"
      ],
      "metadata": {
        "colab": {
          "base_uri": "https://localhost:8080/"
        },
        "id": "WHgFkHNCj2IS",
        "outputId": "1f0ad325-880c-486f-fbc1-808f47f6177e"
      },
      "execution_count": null,
      "outputs": [
        {
          "output_type": "stream",
          "name": "stdout",
          "text": [
            "Кол-во итераций в QR алгоритме со сдвигом:  41\n"
          ]
        },
        {
          "output_type": "execute_result",
          "data": {
            "text/plain": [
              "array([[-1.1681564e+02,  5.2236380e+01, -1.6776726e+02,  1.4186655e+02],\n",
              "       [-6.5107960e+01,  1.0475870e+01, -8.6383780e+01,  9.0548010e+01],\n",
              "       [-1.0000000e-05,  1.0000000e-05,  3.9882900e+00, -1.2970560e+01],\n",
              "       [ 0.0000000e+00,  0.0000000e+00,  0.0000000e+00,  9.3514500e+00]])"
            ]
          },
          "metadata": {},
          "execution_count": 57
        }
      ]
    },
    {
      "cell_type": "code",
      "source": [
        "modified_QR_algorithm(m_1, 0.001)"
      ],
      "metadata": {
        "colab": {
          "base_uri": "https://localhost:8080/"
        },
        "id": "aI1zEs9kj62d",
        "outputId": "b3282495-a189-426b-a934-e477e365a6f5"
      },
      "execution_count": null,
      "outputs": [
        {
          "output_type": "stream",
          "name": "stdout",
          "text": [
            "Кол-во итераций в QR алгоритме со сдвигом:  48\n"
          ]
        },
        {
          "output_type": "execute_result",
          "data": {
            "text/plain": [
              "array([[-1.0916312e+02, -1.0399904e+02,  2.1259106e+02,  6.6417590e+01],\n",
              "       [ 3.0667930e+01,  6.4482300e+00, -5.1160180e+01, -2.1114600e+01],\n",
              "       [-1.0000000e-05, -1.0000000e-05,  7.8479800e+00,  5.7955900e+00],\n",
              "       [ 0.0000000e+00, -0.0000000e+00,  1.4080700e+00,  1.5608600e+00]])"
            ]
          },
          "metadata": {},
          "execution_count": 58
        }
      ]
    },
    {
      "cell_type": "code",
      "source": [],
      "metadata": {
        "id": "VwSeEy-x_S12"
      },
      "execution_count": null,
      "outputs": []
    },
    {
      "cell_type": "markdown",
      "source": [
        "### Пример 6\n",
        "Сравнение QR-алгоритмов для матрицы с близкими по абсолютному значению числами (таблица 2)"
      ],
      "metadata": {
        "id": "pvDHjXSbvrKJ"
      }
    },
    {
      "cell_type": "code",
      "source": [
        "m = np.array([[4.07634, 1.02546, 1.05139, 1.25927],\n",
        "              [-0.247737, 3.93355, 0.0104355, -0.0234149],\n",
        "              [0.0389078, 0.0104355, -0.173069, -1.85544], \n",
        "              [-0.0873002, -0.0234149, -1.85544, 3.16318]]) #матрица с близкими по знач соьственными значениями\n",
        "print(m)"
      ],
      "metadata": {
        "colab": {
          "base_uri": "https://localhost:8080/"
        },
        "id": "VtjBoQatnWRC",
        "outputId": "46d4c8c8-2428-417c-e6ef-d19c4a7515b2"
      },
      "execution_count": null,
      "outputs": [
        {
          "output_type": "stream",
          "name": "stdout",
          "text": [
            "[[ 4.07634    1.02546    1.05139    1.25927  ]\n",
            " [-0.247737   3.93355    0.0104355 -0.0234149]\n",
            " [ 0.0389078  0.0104355 -0.173069  -1.85544  ]\n",
            " [-0.0873002 -0.0234149 -1.85544    3.16318  ]]\n"
          ]
        }
      ]
    },
    {
      "cell_type": "code",
      "source": [
        "m_1 = givens_method(m)\n",
        "print(m_1)"
      ],
      "metadata": {
        "colab": {
          "base_uri": "https://localhost:8080/"
        },
        "id": "OXDUErpipCIA",
        "outputId": "7bf1b121-2950-4452-d3db-c9abe7b58468"
      },
      "execution_count": null,
      "outputs": [
        {
          "output_type": "stream",
          "name": "stdout",
          "text": [
            "[[ 3.922  0.534  0.     0.   ]\n",
            " [ 0.519 -0.988  0.337 -0.   ]\n",
            " [-0.362 -0.521  2.765  0.132]\n",
            " [ 0.209  0.473 -0.355  0.741]]\n"
          ]
        }
      ]
    },
    {
      "cell_type": "code",
      "source": [
        "QR_algorithm(m,0.001)"
      ],
      "metadata": {
        "colab": {
          "base_uri": "https://localhost:8080/"
        },
        "id": "AGe8p5vVn1bj",
        "outputId": "619c97f7-07b7-4397-e9ef-640cb62cb451"
      },
      "execution_count": null,
      "outputs": [
        {
          "output_type": "stream",
          "name": "stdout",
          "text": [
            "Кол-во итераций в базовом QR алгоритме:  46\n"
          ]
        },
        {
          "output_type": "execute_result",
          "data": {
            "text/plain": [
              "array([[ 4.00879e+00,  1.10812e+00, -5.99610e-01, -1.46927e+00],\n",
              "       [-2.51310e-01,  3.98662e+00, -1.80000e-02, -1.00430e-01],\n",
              "       [ 6.47700e-02,  3.45000e-03,  4.00462e+00,  2.58700e-02],\n",
              "       [ 0.00000e+00,  0.00000e+00,  0.00000e+00, -9.99990e-01]])"
            ]
          },
          "metadata": {},
          "execution_count": 61
        }
      ]
    },
    {
      "cell_type": "code",
      "source": [
        "modified_QR_algorithm(m, 0.001)"
      ],
      "metadata": {
        "colab": {
          "base_uri": "https://localhost:8080/"
        },
        "id": "jj_TxANDptDZ",
        "outputId": "853f77d5-529e-4c77-c099-8b389987dc69"
      },
      "execution_count": null,
      "outputs": [
        {
          "output_type": "stream",
          "name": "stdout",
          "text": [
            "Кол-во итераций в QR алгоритме со сдвигом:  2\n"
          ]
        },
        {
          "output_type": "execute_result",
          "data": {
            "text/plain": [
              "array([[ 3.98600e+00,  2.59550e-01, -9.59400e-02, -2.03800e-02],\n",
              "       [-1.22255e+00,  4.01550e+00,  1.47198e+00,  2.93310e-01],\n",
              "       [-0.00000e+00, -2.00000e-05, -9.99800e-01,  3.61800e-02],\n",
              "       [ 6.00000e-03, -8.00000e-05,  2.89700e-02,  3.99830e+00]])"
            ]
          },
          "metadata": {},
          "execution_count": 62
        }
      ]
    },
    {
      "cell_type": "code",
      "source": [
        "QR_algorithm(m_1,0.001)"
      ],
      "metadata": {
        "colab": {
          "base_uri": "https://localhost:8080/"
        },
        "id": "P2eMlZEip1ef",
        "outputId": "ab9f0b61-df14-4f04-e318-46f2ecf5c2fc"
      },
      "execution_count": null,
      "outputs": [
        {
          "output_type": "stream",
          "name": "stdout",
          "text": [
            "Кол-во итераций в базовом QR алгоритме:  8\n"
          ]
        },
        {
          "output_type": "execute_result",
          "data": {
            "text/plain": [
              "array([[ 3.97258e+00, -4.44000e-01,  3.16340e-01, -2.72370e-01],\n",
              "       [ 1.82400e-02,  2.70856e+00,  8.81890e-01, -2.49920e-01],\n",
              "       [-4.00000e-05, -1.07800e-02, -1.00868e+00, -3.09370e-01],\n",
              "       [ 0.00000e+00,  1.40000e-04,  4.37400e-02,  7.67540e-01]])"
            ]
          },
          "metadata": {},
          "execution_count": 63
        }
      ]
    },
    {
      "cell_type": "code",
      "source": [
        "modified_QR_algorithm(m_1,0.001)"
      ],
      "metadata": {
        "colab": {
          "base_uri": "https://localhost:8080/"
        },
        "id": "kU6z8zUrqS-n",
        "outputId": "a6194c6c-6833-4736-b35a-2ac2be19c9ee"
      },
      "execution_count": null,
      "outputs": [
        {
          "output_type": "stream",
          "name": "stdout",
          "text": [
            "Кол-во итераций в QR алгоритме со сдвигом:  17\n"
          ]
        },
        {
          "output_type": "execute_result",
          "data": {
            "text/plain": [
              "array([[ 1.53938e+00, -2.70801e+00,  3.19740e-01,  4.64000e-03],\n",
              "       [-2.27438e+00,  1.42840e+00,  9.13700e-01, -3.95930e-01],\n",
              "       [ 1.60000e-04, -2.20000e-04,  2.71237e+00,  2.99680e-01],\n",
              "       [ 0.00000e+00,  0.00000e+00, -1.00000e-05,  7.59870e-01]])"
            ]
          },
          "metadata": {},
          "execution_count": 64
        }
      ]
    },
    {
      "cell_type": "markdown",
      "source": [
        "### Пример 7\n",
        "Примение нормы Фробениуса"
      ],
      "metadata": {
        "id": "vjx0pBcEBQAm"
      }
    },
    {
      "cell_type": "code",
      "source": [
        "def frobenius_norm(A): # считает норму Фробениуса из внедиагональных элемнтов, используется для условия сходимости\n",
        "  sum = 0\n",
        "  for i in range(len(A)):\n",
        "    for j in range(len(A)):\n",
        "      if i!=j:\n",
        "        sum += A[i][j]*A[i][j]\n",
        "  return math.sqrt(sum)"
      ],
      "metadata": {
        "id": "hzR4mYYI5-i2"
      },
      "execution_count": null,
      "outputs": []
    },
    {
      "cell_type": "code",
      "source": [
        "m = np.array([[69,0,0,0],\n",
        "              [0,-60,0,0],\n",
        "              [0,0,1,0],\n",
        "              [0,0,0,100]])\n",
        "print(\"Матрица A:\")\n",
        "print(m)\n",
        "print(\"Норма Фробениуса для матрицы А: \", frobenius_norm(m))\n",
        "m1 = np.array([[69,0,0.0001,0],\n",
        "              [0,-60,0,0.0001],\n",
        "              [0.0001,0,1,0],\n",
        "              [0.0001,0,0,100]])\n",
        "print(\"Матрица B:\")\n",
        "print(np.round(m1,4))\n",
        "print(\"Норма Фробениуса для матрицы B: \", round(frobenius_norm(m1),7))"
      ],
      "metadata": {
        "id": "0ljS4HxgGjPx",
        "colab": {
          "base_uri": "https://localhost:8080/"
        },
        "outputId": "aef9e724-4a5d-43a6-c177-4873651be161"
      },
      "execution_count": null,
      "outputs": [
        {
          "output_type": "stream",
          "name": "stdout",
          "text": [
            "Матрица A:\n",
            "[[ 69   0   0   0]\n",
            " [  0 -60   0   0]\n",
            " [  0   0   1   0]\n",
            " [  0   0   0 100]]\n",
            "Норма Фробениуса для матрицы А:  0.0\n",
            "Матрица B:\n",
            "[[ 6.9e+01  0.0e+00  1.0e-04  0.0e+00]\n",
            " [ 0.0e+00 -6.0e+01  0.0e+00  1.0e-04]\n",
            " [ 1.0e-04  0.0e+00  1.0e+00  0.0e+00]\n",
            " [ 1.0e-04  0.0e+00  0.0e+00  1.0e+02]]\n",
            "Норма Фробениуса для матрицы B:  0.0002\n"
          ]
        }
      ]
    },
    {
      "cell_type": "code",
      "source": [
        "frobenius_norm(m)"
      ],
      "metadata": {
        "colab": {
          "base_uri": "https://localhost:8080/"
        },
        "id": "NA99fXBm554Y",
        "outputId": "823d94b9-ea5e-4306-998f-f4bd87a4b427"
      },
      "execution_count": null,
      "outputs": [
        {
          "output_type": "execute_result",
          "data": {
            "text/plain": [
              "0.0"
            ]
          },
          "metadata": {},
          "execution_count": 67
        }
      ]
    },
    {
      "cell_type": "code",
      "source": [
        "m = np.array([[69,0,0.0009,0],\n",
        "              [0,-60,0,0],\n",
        "              [0,0,1,0],\n",
        "              [0.0002,0,0,100]])\n",
        "m"
      ],
      "metadata": {
        "colab": {
          "base_uri": "https://localhost:8080/"
        },
        "id": "F84XXU6a6NMZ",
        "outputId": "73bae828-6830-41f8-df92-36b169fc2b29"
      },
      "execution_count": null,
      "outputs": [
        {
          "output_type": "execute_result",
          "data": {
            "text/plain": [
              "array([[ 6.9e+01,  0.0e+00,  9.0e-04,  0.0e+00],\n",
              "       [ 0.0e+00, -6.0e+01,  0.0e+00,  0.0e+00],\n",
              "       [ 0.0e+00,  0.0e+00,  1.0e+00,  0.0e+00],\n",
              "       [ 2.0e-04,  0.0e+00,  0.0e+00,  1.0e+02]])"
            ]
          },
          "metadata": {},
          "execution_count": 68
        }
      ]
    },
    {
      "cell_type": "code",
      "source": [
        "frobenius_norm(m)"
      ],
      "metadata": {
        "colab": {
          "base_uri": "https://localhost:8080/"
        },
        "id": "DTHaNlFc6SoL",
        "outputId": "350c2fee-ac6f-4d4e-eb21-c5450bce1ee9"
      },
      "execution_count": null,
      "outputs": [
        {
          "output_type": "execute_result",
          "data": {
            "text/plain": [
              "0.0009219544457292888"
            ]
          },
          "metadata": {},
          "execution_count": 69
        }
      ]
    },
    {
      "cell_type": "code",
      "source": [],
      "metadata": {
        "id": "5vD9RJN_6VQJ"
      },
      "execution_count": null,
      "outputs": []
    },
    {
      "cell_type": "markdown",
      "source": [
        "### Пример 8\n",
        "Применение QR-алгоритма к симметричной матрице."
      ],
      "metadata": {
        "id": "qDv9kihB2Wc4"
      }
    },
    {
      "cell_type": "code",
      "source": [
        "m = np.array([[1,4,-7,5],\n",
        "              [4,-6,2,8],\n",
        "              [-7,2,1,1],\n",
        "              [5,8,1,-1]])\n",
        "print(m)"
      ],
      "metadata": {
        "colab": {
          "base_uri": "https://localhost:8080/"
        },
        "id": "_NNsAM6khxZr",
        "outputId": "f645e3a7-ab6a-4e28-808f-b2e169a245f3"
      },
      "execution_count": null,
      "outputs": [
        {
          "output_type": "stream",
          "name": "stdout",
          "text": [
            "[[ 1  4 -7  5]\n",
            " [ 4 -6  2  8]\n",
            " [-7  2  1  1]\n",
            " [ 5  8  1 -1]]\n"
          ]
        }
      ]
    },
    {
      "cell_type": "code",
      "source": [
        "m_1 = givens_method(m)\n",
        "print(m_1)"
      ],
      "metadata": {
        "colab": {
          "base_uri": "https://localhost:8080/"
        },
        "id": "BCRoJpeoiCna",
        "outputId": "555ed791-3a8f-4ba8-e7f2-74eead0e64fe"
      },
      "execution_count": null,
      "outputs": [
        {
          "output_type": "stream",
          "name": "stdout",
          "text": [
            "[[-4.786  8.767  0.     0.   ]\n",
            " [ 8.767  0.848  1.009  0.   ]\n",
            " [ 0.     1.009 -2.721 -2.001]\n",
            " [ 0.     0.    -2.001  1.589]]\n"
          ]
        }
      ]
    },
    {
      "cell_type": "code",
      "source": [
        "QR_algorithm(m, 0.001)"
      ],
      "metadata": {
        "colab": {
          "base_uri": "https://localhost:8080/"
        },
        "id": "y5Fjt3yAiJSP",
        "outputId": "7e5f4898-16d2-4024-ef01-e46a21988bc6"
      },
      "execution_count": null,
      "outputs": [
        {
          "output_type": "stream",
          "name": "stdout",
          "text": [
            "Кол-во итераций в базовом QR алгоритме:  42\n"
          ]
        },
        {
          "output_type": "execute_result",
          "data": {
            "text/plain": [
              "array([[-1.207685e+01,  5.442300e-01, -4.000000e-05,  0.000000e+00],\n",
              "       [ 5.442300e-01,  1.064246e+01, -1.480000e-03, -0.000000e+00],\n",
              "       [-4.000000e-05, -1.480000e-03, -8.525860e+00,  1.000000e-05],\n",
              "       [ 0.000000e+00,  0.000000e+00,  1.000000e-05,  4.960230e+00]])"
            ]
          },
          "metadata": {},
          "execution_count": 72
        }
      ]
    },
    {
      "cell_type": "code",
      "source": [
        "QR_algorithm(m_1, 0.001)"
      ],
      "metadata": {
        "colab": {
          "base_uri": "https://localhost:8080/"
        },
        "id": "lw72olZHiX9Q",
        "outputId": "d4fd96f6-d0a6-4aa7-ba33-c55f4c0c75cf"
      },
      "execution_count": null,
      "outputs": [
        {
          "output_type": "stream",
          "name": "stdout",
          "text": [
            "Кол-во итераций в базовом QR алгоритме:  9\n"
          ]
        },
        {
          "output_type": "execute_result",
          "data": {
            "text/plain": [
              "array([[-1.121642e+01, -2.849100e-01, -0.000000e+00, -0.000000e+00],\n",
              "       [-2.849100e-01,  7.306470e+00, -1.060000e-03, -0.000000e+00],\n",
              "       [ 0.000000e+00, -1.060000e-03, -3.519630e+00, -6.272000e-02],\n",
              "       [ 0.000000e+00,  0.000000e+00, -6.272000e-02,  2.359610e+00]])"
            ]
          },
          "metadata": {},
          "execution_count": 73
        }
      ]
    },
    {
      "cell_type": "code",
      "source": [
        "modified_QR_algorithm(m, 0.001)"
      ],
      "metadata": {
        "colab": {
          "base_uri": "https://localhost:8080/"
        },
        "id": "2MmFJ0p4iiCA",
        "outputId": "2e4e72e6-9f6a-4899-dc8a-78097e2dd637"
      },
      "execution_count": null,
      "outputs": [
        {
          "output_type": "stream",
          "name": "stdout",
          "text": [
            "Кол-во итераций в QR алгоритме со сдвигом:  35\n"
          ]
        },
        {
          "output_type": "execute_result",
          "data": {
            "text/plain": [
              "array([[ 1.09976e+00, -1.12266e+01, -8.00000e-05,  0.00000e+00],\n",
              "       [-1.12266e+01, -2.53412e+00,  8.00000e-05,  0.00000e+00],\n",
              "       [-8.00000e-05,  8.00000e-05, -8.52589e+00,  0.00000e+00],\n",
              "       [ 0.00000e+00,  0.00000e+00,  0.00000e+00,  4.96022e+00]])"
            ]
          },
          "metadata": {},
          "execution_count": 74
        }
      ]
    },
    {
      "cell_type": "code",
      "source": [
        "modified_QR_algorithm(m_1, 0.001)"
      ],
      "metadata": {
        "colab": {
          "base_uri": "https://localhost:8080/"
        },
        "id": "HbaOXRQkirF6",
        "outputId": "e8216d5e-29fa-4e6e-cdc3-e4c2cf54ff79"
      },
      "execution_count": null,
      "outputs": [
        {
          "output_type": "stream",
          "name": "stdout",
          "text": [
            "Кол-во итераций в QR алгоритме со сдвигом:  34\n"
          ]
        },
        {
          "output_type": "execute_result",
          "data": {
            "text/plain": [
              "array([[ 3.88507e+00,  7.19367e+00,  0.00000e+00, -0.00000e+00],\n",
              "       [ 7.19367e+00, -7.79502e+00,  1.00000e-04,  0.00000e+00],\n",
              "       [ 0.00000e+00,  1.00000e-04, -3.52031e+00,  5.00000e-05],\n",
              "       [ 0.00000e+00,  0.00000e+00,  5.00000e-05,  2.36029e+00]])"
            ]
          },
          "metadata": {},
          "execution_count": 75
        }
      ]
    },
    {
      "cell_type": "code",
      "source": [],
      "metadata": {
        "id": "aPImbOXlzQYZ"
      },
      "execution_count": null,
      "outputs": []
    },
    {
      "cell_type": "markdown",
      "source": [
        "### Приимер 9\n",
        "Применение QR-алгоритма и метода Якоби к симметричной матрице(таблица 3)."
      ],
      "metadata": {
        "id": "mNZcngMHFI4R"
      }
    },
    {
      "cell_type": "code",
      "source": [
        "m = np.array([[-1,0,9,3,6],\n",
        "              [0,2,10,4,-70],\n",
        "              [9,10,-7,1,8],\n",
        "              [3,4,1,-8,-56],\n",
        "              [6,-70,8,-56,-23]])\n",
        "m"
      ],
      "metadata": {
        "colab": {
          "base_uri": "https://localhost:8080/"
        },
        "id": "LLC-H_5Azzmj",
        "outputId": "80225428-063e-4e58-e48a-9d489c248139"
      },
      "execution_count": null,
      "outputs": [
        {
          "output_type": "execute_result",
          "data": {
            "text/plain": [
              "array([[ -1,   0,   9,   3,   6],\n",
              "       [  0,   2,  10,   4, -70],\n",
              "       [  9,  10,  -7,   1,   8],\n",
              "       [  3,   4,   1,  -8, -56],\n",
              "       [  6, -70,   8, -56, -23]])"
            ]
          },
          "metadata": {},
          "execution_count": 76
        }
      ]
    },
    {
      "cell_type": "code",
      "source": [
        "m_1 = givens_method(m)\n",
        "m_1"
      ],
      "metadata": {
        "colab": {
          "base_uri": "https://localhost:8080/"
        },
        "id": "NfpMCgoIFh3I",
        "outputId": "6ac77135-afa1-4448-ca05-33b8ec716a54"
      },
      "execution_count": null,
      "outputs": [
        {
          "output_type": "execute_result",
          "data": {
            "text/plain": [
              "array([[-44.253,  85.173,   0.   ,   0.   ,   0.   ],\n",
              "       [ 85.173,  21.851,   0.484,   0.   ,   0.   ],\n",
              "       [  0.   ,   0.484,  -9.906,   3.76 ,  -0.   ],\n",
              "       [  0.   ,   0.   ,   3.76 ,  -1.084,  -1.785],\n",
              "       [  0.   ,   0.   ,  -0.   ,  -1.785,  -0.455]])"
            ]
          },
          "metadata": {},
          "execution_count": 77
        }
      ]
    },
    {
      "cell_type": "code",
      "source": [
        "tol = 0.00001"
      ],
      "metadata": {
        "id": "5uYYIOvgGNbp"
      },
      "execution_count": null,
      "outputs": []
    },
    {
      "cell_type": "code",
      "source": [
        "QR_algorithm(m, tol)\n",
        "QR_algorithm(m_1, tol)"
      ],
      "metadata": {
        "colab": {
          "base_uri": "https://localhost:8080/"
        },
        "id": "Anm3xIH_FqLV",
        "outputId": "cd7b04bb-2b86-4b0e-827d-28f0bb0e2501"
      },
      "execution_count": null,
      "outputs": [
        {
          "output_type": "stream",
          "name": "stdout",
          "text": [
            "Кол-во итераций в базовом QR алгоритме:  14\n",
            "Кол-во итераций в базовом QR алгоритме:  8\n"
          ]
        },
        {
          "output_type": "execute_result",
          "data": {
            "text/plain": [
              "array([[-100.91726,   17.26318,    0.     ,    0.     ,    0.     ],\n",
              "       [  17.26318,   78.51622,    0.     ,    0.     ,    0.     ],\n",
              "       [   0.     ,    0.     ,  -11.32769,   -0.     ,    0.     ],\n",
              "       [   0.     ,    0.     ,   -0.     ,   -0.61955,   -1.61634],\n",
              "       [   0.     ,    0.     ,    0.     ,   -1.61634,    0.50128]])"
            ]
          },
          "metadata": {},
          "execution_count": 79
        }
      ]
    },
    {
      "cell_type": "code",
      "source": [
        "jacobi_method_max(m,tol)\n",
        "jacobi_method_zero(m,tol)"
      ],
      "metadata": {
        "colab": {
          "base_uri": "https://localhost:8080/"
        },
        "id": "rsFugN26GJXy",
        "outputId": "824a87bf-ab3d-4ebe-8bba-af44ced23ede"
      },
      "execution_count": null,
      "outputs": [
        {
          "output_type": "stream",
          "name": "stdout",
          "text": [
            "Кол-во итераций в методе Якоби для поиска собственных чисел c обнулением максимального:  21\n",
            "Кол-во итераций в методе Якоби для поиска собственных чисел c обнулением не нуля:  21\n"
          ]
        },
        {
          "output_type": "execute_result",
          "data": {
            "text/plain": [
              "(array([   6.95,   80.22,  -17.02,   -4.48, -102.67]),\n",
              " array([[ 0.7546994 , -0.03070466, -0.48022236,  0.44349289, -0.04676083],\n",
              "        [ 0.14687229,  0.61079203, -0.32346299, -0.50571165,  0.49496369],\n",
              "        [ 0.63254618,  0.01174413,  0.68146631, -0.34973553, -0.1141759 ],\n",
              "        [-0.05334473,  0.44296709,  0.44625756,  0.64940325,  0.42433961],\n",
              "        [ 0.07679202, -0.65546362,  0.03487163, -0.05941598,  0.74814713]]))"
            ]
          },
          "metadata": {},
          "execution_count": 80
        }
      ]
    },
    {
      "cell_type": "code",
      "source": [
        "jacobi_method_max(m_1,tol)\n",
        "jacobi_method_zero(m_1,tol)"
      ],
      "metadata": {
        "colab": {
          "base_uri": "https://localhost:8080/"
        },
        "id": "lFk24s29GYmi",
        "outputId": "4f68d1ba-101c-4c2e-de88-2885ee7fc587"
      },
      "execution_count": null,
      "outputs": [
        {
          "output_type": "stream",
          "name": "stdout",
          "text": [
            "Кол-во итераций в методе Якоби для поиска собственных чисел c обнулением максимального:  12\n",
            "Кол-во итераций в методе Якоби для поиска собственных чисел c обнулением не нуля:  12\n"
          ]
        },
        {
          "output_type": "execute_result",
          "data": {
            "text/plain": [
              "(array([-102.56,   80.16,  -11.32,    1.64,   -1.77]),\n",
              " array([[ 8.25147746e-01,  5.64895861e-01, -4.54566592e-03,\n",
              "         -1.18673154e-03, -1.33849320e-03],\n",
              "        [-5.64909617e-01,  8.25150219e-01, -1.78951370e-03,\n",
              "         -7.21384922e-04, -7.19760162e-04],\n",
              "        [ 2.88094463e-03,  4.43871912e-03,  9.33909515e-01,\n",
              "          2.41179513e-01,  2.63851204e-01],\n",
              "        [-1.44232342e-04,  2.82372712e-04, -3.52802042e-01,\n",
              "          7.40832414e-01,  5.71574975e-01],\n",
              "        [ 2.59393477e-05,  2.24731510e-05, -5.76183217e-02,\n",
              "         -6.26895404e-01,  7.76969935e-01]]))"
            ]
          },
          "metadata": {},
          "execution_count": 81
        }
      ]
    },
    {
      "cell_type": "markdown",
      "source": [
        "### Пример 10\n",
        "Поиск сингулярных чисел и сингулярное раздожение."
      ],
      "metadata": {
        "id": "zpgw-e2LEG-j"
      }
    },
    {
      "cell_type": "code",
      "source": [
        "m = np.array([[-1,2,3,4],\n",
        "              [2,-6,4,1],\n",
        "              [3,4,-11,-12],\n",
        "              [4,1,-12,-16]])\n",
        "m"
      ],
      "metadata": {
        "colab": {
          "base_uri": "https://localhost:8080/"
        },
        "id": "2qqm63JvEVtU",
        "outputId": "94c52de9-1058-42fe-a387-920cf7b21515"
      },
      "execution_count": null,
      "outputs": [
        {
          "output_type": "execute_result",
          "data": {
            "text/plain": [
              "array([[ -1,   2,   3,   4],\n",
              "       [  2,  -6,   4,   1],\n",
              "       [  3,   4, -11, -12],\n",
              "       [  4,   1, -12, -16]])"
            ]
          },
          "metadata": {},
          "execution_count": 112
        }
      ]
    },
    {
      "cell_type": "code",
      "source": [
        "c,v = search_singular_values(m, 0.0001)"
      ],
      "metadata": {
        "colab": {
          "base_uri": "https://localhost:8080/"
        },
        "id": "HI_E-alwFDCB",
        "outputId": "746a815f-6667-4000-da02-6dca011cae4f"
      },
      "execution_count": null,
      "outputs": [
        {
          "output_type": "stream",
          "name": "stdout",
          "text": [
            "Кол-во итераций в методе Якоби для поиска сингулярных чисел:  21\n"
          ]
        }
      ]
    }
  ]
}